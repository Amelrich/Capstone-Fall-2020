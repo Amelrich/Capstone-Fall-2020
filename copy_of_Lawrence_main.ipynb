{
  "nbformat": 4,
  "nbformat_minor": 0,
  "metadata": {
    "kernelspec": {
      "display_name": "Python 3",
      "language": "python",
      "name": "python3"
    },
    "language_info": {
      "codemirror_mode": {
        "name": "ipython",
        "version": 3
      },
      "file_extension": ".py",
      "mimetype": "text/x-python",
      "name": "python",
      "nbconvert_exporter": "python",
      "pygments_lexer": "ipython3",
      "version": "3.7.6"
    },
    "colab": {
      "name": "main.ipynb",
      "provenance": [],
      "include_colab_link": true
    }
  },
  "cells": [
    {
      "cell_type": "markdown",
      "metadata": {
        "id": "view-in-github",
        "colab_type": "text"
      },
      "source": [
        "<a href=\"https://colab.research.google.com/github/Amelrich/Capstone-Fall-2020/blob/kassie-preprocessing/copy_of_Lawrence_main.ipynb\" target=\"_parent\"><img src=\"https://colab.research.google.com/assets/colab-badge.svg\" alt=\"Open In Colab\"/></a>"
      ]
    },
    {
      "cell_type": "code",
      "metadata": {
        "id": "f3d8f5sO8lqS",
        "outputId": "6e8ad3c3-6485-44ac-8085-31f933ee2440",
        "colab": {
          "base_uri": "https://localhost:8080/",
          "height": 34
        }
      },
      "source": [
        "from google.colab import drive\n",
        "drive.mount('/content/drive')"
      ],
      "execution_count": 14,
      "outputs": [
        {
          "output_type": "stream",
          "text": [
            "Drive already mounted at /content/drive; to attempt to forcibly remount, call drive.mount(\"/content/drive\", force_remount=True).\n"
          ],
          "name": "stdout"
        }
      ]
    },
    {
      "cell_type": "code",
      "metadata": {
        "id": "d78quC1l2Ixr",
        "outputId": "39da8ab7-7be0-4388-b4f2-990e4bc9ca47",
        "colab": {
          "base_uri": "https://localhost:8080/",
          "height": 258
        }
      },
      "source": [
        "!pip install tslearn"
      ],
      "execution_count": 69,
      "outputs": [
        {
          "output_type": "stream",
          "text": [
            "Collecting tslearn\n",
            "\u001b[?25l  Downloading https://files.pythonhosted.org/packages/a7/67/aa3149fdfef2582d881ce4a5117c9e6a465d5082dd57866904ca508a157c/tslearn-0.4.1-cp36-cp36m-manylinux2010_x86_64.whl (770kB)\n",
            "\u001b[K     |████████████████████████████████| 778kB 3.1MB/s \n",
            "\u001b[?25hRequirement already satisfied: numpy in /usr/local/lib/python3.6/dist-packages (from tslearn) (1.18.5)\n",
            "Requirement already satisfied: Cython in /usr/local/lib/python3.6/dist-packages (from tslearn) (0.29.21)\n",
            "Requirement already satisfied: scipy in /usr/local/lib/python3.6/dist-packages (from tslearn) (1.4.1)\n",
            "Requirement already satisfied: joblib in /usr/local/lib/python3.6/dist-packages (from tslearn) (0.16.0)\n",
            "Requirement already satisfied: numba in /usr/local/lib/python3.6/dist-packages (from tslearn) (0.48.0)\n",
            "Requirement already satisfied: scikit-learn in /usr/local/lib/python3.6/dist-packages (from tslearn) (0.22.2.post1)\n",
            "Requirement already satisfied: setuptools in /usr/local/lib/python3.6/dist-packages (from numba->tslearn) (50.3.0)\n",
            "Requirement already satisfied: llvmlite<0.32.0,>=0.31.0dev0 in /usr/local/lib/python3.6/dist-packages (from numba->tslearn) (0.31.0)\n",
            "Installing collected packages: tslearn\n",
            "Successfully installed tslearn-0.4.1\n"
          ],
          "name": "stdout"
        }
      ]
    },
    {
      "cell_type": "code",
      "metadata": {
        "id": "FDlCq4Jr8brL"
      },
      "source": [
        "import os\n",
        "import numpy as np\n",
        "import pandas as pd\n",
        "import matplotlib.pyplot as plt\n",
        "import pandas_datareader.data as web\n",
        "from datetime import datetime\n",
        "from random import sample\n",
        "from keras.models import Sequential\n",
        "from keras.layers import Dense, Dropout\n",
        "from keras.wrappers.scikit_learn import KerasClassifier\n",
        "from keras.utils import np_utils\n",
        "from sklearn.model_selection import cross_val_score, KFold\n",
        "from pandas import *\n",
        "from sklearn.linear_model import LinearRegression\n",
        "from scipy import stats\n",
        "import seaborn as sns\n",
        "import sys\n"
      ],
      "execution_count": 15,
      "outputs": []
    },
    {
      "cell_type": "code",
      "metadata": {
        "id": "aCed4WNhRDvv",
        "outputId": "4442364f-5c0f-4103-d253-9deaff9f5604",
        "colab": {
          "base_uri": "https://localhost:8080/",
          "height": 204
        }
      },
      "source": [
        "import glob\n",
        "import pandas as pd\n",
        "\n",
        "# get data file names\n",
        "path = '/content/drive/My Drive/capstone/data/'\n",
        "filenames = glob.glob(path + \"*.csv\")\n",
        "\n",
        "dfs = []\n",
        "for filename in sorted(filenames):\n",
        "    _=pd.read_csv(filename)\n",
        "    _['Symbol']=filename.split('/')[-1].split('.')[0]\n",
        "    _['Date'] = pd.to_datetime(_.Date)\n",
        "    _ = _.sort_values(by=['Date']).reset_index(drop=True)\n",
        "    dfs.append(_)\n",
        "\n",
        "df_concat = pd.concat(dfs, ignore_index=True)\n",
        "df_concat.head()"
      ],
      "execution_count": 13,
      "outputs": [
        {
          "output_type": "execute_result",
          "data": {
            "text/html": [
              "<div>\n",
              "<style scoped>\n",
              "    .dataframe tbody tr th:only-of-type {\n",
              "        vertical-align: middle;\n",
              "    }\n",
              "\n",
              "    .dataframe tbody tr th {\n",
              "        vertical-align: top;\n",
              "    }\n",
              "\n",
              "    .dataframe thead th {\n",
              "        text-align: right;\n",
              "    }\n",
              "</style>\n",
              "<table border=\"1\" class=\"dataframe\">\n",
              "  <thead>\n",
              "    <tr style=\"text-align: right;\">\n",
              "      <th></th>\n",
              "      <th>Date</th>\n",
              "      <th>Open</th>\n",
              "      <th>High</th>\n",
              "      <th>Low</th>\n",
              "      <th>Close</th>\n",
              "      <th>Adj Close</th>\n",
              "      <th>Volume</th>\n",
              "      <th>Symbol</th>\n",
              "    </tr>\n",
              "  </thead>\n",
              "  <tbody>\n",
              "    <tr>\n",
              "      <th>0</th>\n",
              "      <td>1999-11-18</td>\n",
              "      <td>0.813058</td>\n",
              "      <td>0.813616</td>\n",
              "      <td>0.789621</td>\n",
              "      <td>0.800223</td>\n",
              "      <td>0.691504</td>\n",
              "      <td>364784000.0</td>\n",
              "      <td>AAPL</td>\n",
              "    </tr>\n",
              "    <tr>\n",
              "      <th>1</th>\n",
              "      <td>1999-11-19</td>\n",
              "      <td>0.799107</td>\n",
              "      <td>0.829241</td>\n",
              "      <td>0.786272</td>\n",
              "      <td>0.825335</td>\n",
              "      <td>0.713204</td>\n",
              "      <td>312513600.0</td>\n",
              "      <td>AAPL</td>\n",
              "    </tr>\n",
              "    <tr>\n",
              "      <th>2</th>\n",
              "      <td>1999-11-22</td>\n",
              "      <td>0.819196</td>\n",
              "      <td>0.819196</td>\n",
              "      <td>0.796875</td>\n",
              "      <td>0.809152</td>\n",
              "      <td>0.699220</td>\n",
              "      <td>202361600.0</td>\n",
              "      <td>AAPL</td>\n",
              "    </tr>\n",
              "    <tr>\n",
              "      <th>3</th>\n",
              "      <td>1999-11-23</td>\n",
              "      <td>0.819196</td>\n",
              "      <td>0.850446</td>\n",
              "      <td>0.790179</td>\n",
              "      <td>0.828683</td>\n",
              "      <td>0.716097</td>\n",
              "      <td>543312000.0</td>\n",
              "      <td>AAPL</td>\n",
              "    </tr>\n",
              "    <tr>\n",
              "      <th>4</th>\n",
              "      <td>1999-11-24</td>\n",
              "      <td>0.830357</td>\n",
              "      <td>0.848214</td>\n",
              "      <td>0.818638</td>\n",
              "      <td>0.845424</td>\n",
              "      <td>0.730564</td>\n",
              "      <td>215107200.0</td>\n",
              "      <td>AAPL</td>\n",
              "    </tr>\n",
              "  </tbody>\n",
              "</table>\n",
              "</div>"
            ],
            "text/plain": [
              "        Date      Open      High  ...  Adj Close       Volume  Symbol\n",
              "0 1999-11-18  0.813058  0.813616  ...   0.691504  364784000.0    AAPL\n",
              "1 1999-11-19  0.799107  0.829241  ...   0.713204  312513600.0    AAPL\n",
              "2 1999-11-22  0.819196  0.819196  ...   0.699220  202361600.0    AAPL\n",
              "3 1999-11-23  0.819196  0.850446  ...   0.716097  543312000.0    AAPL\n",
              "4 1999-11-24  0.830357  0.848214  ...   0.730564  215107200.0    AAPL\n",
              "\n",
              "[5 rows x 8 columns]"
            ]
          },
          "metadata": {
            "tags": []
          },
          "execution_count": 13
        }
      ]
    },
    {
      "cell_type": "code",
      "metadata": {
        "id": "8C4WgRH48brY",
        "outputId": "5f1ba95a-cd01-419a-c61c-81c9d68d267e",
        "colab": {
          "base_uri": "https://localhost:8080/",
          "height": 258
        }
      },
      "source": [
        "bwd_window=50; fwd_window = 20;\n",
        "#smoothing = 3 \n",
        "df = df_concat.copy()\n",
        "df.loc[df.Volume==0,['Open','High','Low','Close','Volume']]=np.nan\n",
        "\n",
        "df['Open']  = df['Open'] /df['Close']*df['Adj Close']\n",
        "df['High']  = df['High'] /df['Close']*df['Adj Close']\n",
        "df['Low']   = df['Low']  /df['Close']*df['Adj Close']\n",
        "df['Close'] = df['Close']/df['Close']*df['Adj Close']\n",
        "\n",
        "df = df[['Date','Symbol','Open','High','Low','Close','Volume']]\n",
        "df.head()"
      ],
      "execution_count": 17,
      "outputs": [
        {
          "output_type": "stream",
          "text": [
            "/usr/local/lib/python3.6/dist-packages/ipykernel_launcher.py:4: FutureWarning: The pandas.np module is deprecated and will be removed from pandas in a future version. Import numpy directly instead\n",
            "  after removing the cwd from sys.path.\n"
          ],
          "name": "stderr"
        },
        {
          "output_type": "execute_result",
          "data": {
            "text/html": [
              "<div>\n",
              "<style scoped>\n",
              "    .dataframe tbody tr th:only-of-type {\n",
              "        vertical-align: middle;\n",
              "    }\n",
              "\n",
              "    .dataframe tbody tr th {\n",
              "        vertical-align: top;\n",
              "    }\n",
              "\n",
              "    .dataframe thead th {\n",
              "        text-align: right;\n",
              "    }\n",
              "</style>\n",
              "<table border=\"1\" class=\"dataframe\">\n",
              "  <thead>\n",
              "    <tr style=\"text-align: right;\">\n",
              "      <th></th>\n",
              "      <th>Date</th>\n",
              "      <th>Symbol</th>\n",
              "      <th>Open</th>\n",
              "      <th>High</th>\n",
              "      <th>Low</th>\n",
              "      <th>Close</th>\n",
              "      <th>Volume</th>\n",
              "    </tr>\n",
              "  </thead>\n",
              "  <tbody>\n",
              "    <tr>\n",
              "      <th>0</th>\n",
              "      <td>1999-11-18</td>\n",
              "      <td>AAPL</td>\n",
              "      <td>0.702595</td>\n",
              "      <td>0.703077</td>\n",
              "      <td>0.682342</td>\n",
              "      <td>0.691504</td>\n",
              "      <td>364784000.0</td>\n",
              "    </tr>\n",
              "    <tr>\n",
              "      <th>1</th>\n",
              "      <td>1999-11-19</td>\n",
              "      <td>AAPL</td>\n",
              "      <td>0.690540</td>\n",
              "      <td>0.716580</td>\n",
              "      <td>0.679449</td>\n",
              "      <td>0.713204</td>\n",
              "      <td>312513600.0</td>\n",
              "    </tr>\n",
              "    <tr>\n",
              "      <th>2</th>\n",
              "      <td>1999-11-22</td>\n",
              "      <td>AAPL</td>\n",
              "      <td>0.707900</td>\n",
              "      <td>0.707900</td>\n",
              "      <td>0.688611</td>\n",
              "      <td>0.699220</td>\n",
              "      <td>202361600.0</td>\n",
              "    </tr>\n",
              "    <tr>\n",
              "      <th>3</th>\n",
              "      <td>1999-11-23</td>\n",
              "      <td>AAPL</td>\n",
              "      <td>0.707900</td>\n",
              "      <td>0.734904</td>\n",
              "      <td>0.682824</td>\n",
              "      <td>0.716097</td>\n",
              "      <td>543312000.0</td>\n",
              "    </tr>\n",
              "    <tr>\n",
              "      <th>4</th>\n",
              "      <td>1999-11-24</td>\n",
              "      <td>AAPL</td>\n",
              "      <td>0.717544</td>\n",
              "      <td>0.732975</td>\n",
              "      <td>0.707417</td>\n",
              "      <td>0.730564</td>\n",
              "      <td>215107200.0</td>\n",
              "    </tr>\n",
              "  </tbody>\n",
              "</table>\n",
              "</div>"
            ],
            "text/plain": [
              "        Date Symbol      Open      High       Low     Close       Volume\n",
              "0 1999-11-18   AAPL  0.702595  0.703077  0.682342  0.691504  364784000.0\n",
              "1 1999-11-19   AAPL  0.690540  0.716580  0.679449  0.713204  312513600.0\n",
              "2 1999-11-22   AAPL  0.707900  0.707900  0.688611  0.699220  202361600.0\n",
              "3 1999-11-23   AAPL  0.707900  0.734904  0.682824  0.716097  543312000.0\n",
              "4 1999-11-24   AAPL  0.717544  0.732975  0.707417  0.730564  215107200.0"
            ]
          },
          "metadata": {
            "tags": []
          },
          "execution_count": 17
        }
      ]
    },
    {
      "cell_type": "code",
      "metadata": {
        "id": "utuSYr1K8brb",
        "outputId": "1635d13a-136b-420f-9a08-2b1689b7a98e",
        "colab": {
          "base_uri": "https://localhost:8080/",
          "height": 261
        }
      },
      "source": [
        "for fwd_window in [5,10,20]:\n",
        "    df['fwd_max_close'] = df.iloc[::-1].groupby('Symbol', sort=False).rolling(fwd_window, on='Close', min_periods=fwd_window).Close.max().iloc[::-1].reset_index(name='field')['field']\n",
        "    df['fwd_min_close'] = df.iloc[::-1].groupby('Symbol', sort=False).rolling(fwd_window, on='Close', min_periods=fwd_window).Close.min().iloc[::-1].reset_index(name='field')['field']\n",
        "    df['CPP'+str(fwd_window)] = 100*df['fwd_max_close']/df['Close']-100\n",
        "    df['CPL'+str(fwd_window)] = 100*df['fwd_min_close']/df['Close']-100\n",
        "    \n",
        "    df['fwd_max_high']  = df.iloc[::-1].groupby('Symbol', sort=False).rolling(fwd_window, on='High', min_periods=fwd_window).High.max().iloc[::-1].reset_index(name='field')['field']\n",
        "    df['fwd_min_low']   = df.iloc[::-1].groupby('Symbol', sort=False).rolling(fwd_window, on='Low',  min_periods=fwd_window).Low.min().iloc[::-1].reset_index(name='field')['field']\n",
        "    df['PP'+str(fwd_window)] = 100*df['fwd_max_high']/df['Open']-100\n",
        "    df['PL'+str(fwd_window)] = 100*df['fwd_min_low']/df['Open']-100\n",
        "    df = df.drop(columns=['fwd_max_close','fwd_min_close','fwd_max_high','fwd_min_low'])\n",
        "\n",
        "df = df[(df.Date<'2015-01-01')&(df.Date>='1990-01-01')]\n",
        "df = df[~df.isnull()]\n",
        "df.head(4)"
      ],
      "execution_count": 18,
      "outputs": [
        {
          "output_type": "execute_result",
          "data": {
            "text/html": [
              "<div>\n",
              "<style scoped>\n",
              "    .dataframe tbody tr th:only-of-type {\n",
              "        vertical-align: middle;\n",
              "    }\n",
              "\n",
              "    .dataframe tbody tr th {\n",
              "        vertical-align: top;\n",
              "    }\n",
              "\n",
              "    .dataframe thead th {\n",
              "        text-align: right;\n",
              "    }\n",
              "</style>\n",
              "<table border=\"1\" class=\"dataframe\">\n",
              "  <thead>\n",
              "    <tr style=\"text-align: right;\">\n",
              "      <th></th>\n",
              "      <th>Date</th>\n",
              "      <th>Symbol</th>\n",
              "      <th>Open</th>\n",
              "      <th>High</th>\n",
              "      <th>Low</th>\n",
              "      <th>Close</th>\n",
              "      <th>Volume</th>\n",
              "      <th>CPP5</th>\n",
              "      <th>CPL5</th>\n",
              "      <th>PP5</th>\n",
              "      <th>PL5</th>\n",
              "      <th>CPP10</th>\n",
              "      <th>CPL10</th>\n",
              "      <th>PP10</th>\n",
              "      <th>PL10</th>\n",
              "      <th>CPP20</th>\n",
              "      <th>CPL20</th>\n",
              "      <th>PP20</th>\n",
              "      <th>PL20</th>\n",
              "    </tr>\n",
              "  </thead>\n",
              "  <tbody>\n",
              "    <tr>\n",
              "      <th>0</th>\n",
              "      <td>1999-11-18</td>\n",
              "      <td>AAPL</td>\n",
              "      <td>0.702595</td>\n",
              "      <td>0.703077</td>\n",
              "      <td>0.682342</td>\n",
              "      <td>0.691504</td>\n",
              "      <td>364784000.0</td>\n",
              "      <td>3877.487699</td>\n",
              "      <td>3655.625089</td>\n",
              "      <td>3971.235239</td>\n",
              "      <td>3583.185185</td>\n",
              "      <td>3901.544419</td>\n",
              "      <td>3610.183024</td>\n",
              "      <td>3971.235239</td>\n",
              "      <td>3491.105147</td>\n",
              "      <td>3901.544419</td>\n",
              "      <td>3535.337626</td>\n",
              "      <td>3971.235239</td>\n",
              "      <td>3389.817130</td>\n",
              "    </tr>\n",
              "    <tr>\n",
              "      <th>1</th>\n",
              "      <td>1999-11-19</td>\n",
              "      <td>AAPL</td>\n",
              "      <td>0.690540</td>\n",
              "      <td>0.716580</td>\n",
              "      <td>0.679449</td>\n",
              "      <td>0.713204</td>\n",
              "      <td>312513600.0</td>\n",
              "      <td>3722.776144</td>\n",
              "      <td>3541.356053</td>\n",
              "      <td>3895.088150</td>\n",
              "      <td>3647.486061</td>\n",
              "      <td>3779.793016</td>\n",
              "      <td>3497.296613</td>\n",
              "      <td>3982.082396</td>\n",
              "      <td>3553.798493</td>\n",
              "      <td>3779.793016</td>\n",
              "      <td>3424.728469</td>\n",
              "      <td>3982.082396</td>\n",
              "      <td>3433.344211</td>\n",
              "    </tr>\n",
              "    <tr>\n",
              "      <th>2</th>\n",
              "      <td>1999-11-22</td>\n",
              "      <td>AAPL</td>\n",
              "      <td>0.707900</td>\n",
              "      <td>0.707900</td>\n",
              "      <td>0.688611</td>\n",
              "      <td>0.699220</td>\n",
              "      <td>202361600.0</td>\n",
              "      <td>3799.232919</td>\n",
              "      <td>3653.836848</td>\n",
              "      <td>3797.117089</td>\n",
              "      <td>3581.697732</td>\n",
              "      <td>3857.390147</td>\n",
              "      <td>3569.243722</td>\n",
              "      <td>3881.977986</td>\n",
              "      <td>3464.196837</td>\n",
              "      <td>3857.390147</td>\n",
              "      <td>3435.745060</td>\n",
              "      <td>3881.977986</td>\n",
              "      <td>3346.696441</td>\n",
              "    </tr>\n",
              "    <tr>\n",
              "      <th>3</th>\n",
              "      <td>1999-11-23</td>\n",
              "      <td>AAPL</td>\n",
              "      <td>0.707900</td>\n",
              "      <td>0.734904</td>\n",
              "      <td>0.682824</td>\n",
              "      <td>0.716097</td>\n",
              "      <td>543312000.0</td>\n",
              "      <td>3707.331507</td>\n",
              "      <td>3513.737169</td>\n",
              "      <td>3797.116785</td>\n",
              "      <td>3542.529950</td>\n",
              "      <td>3764.118021</td>\n",
              "      <td>3482.762949</td>\n",
              "      <td>3881.977675</td>\n",
              "      <td>3464.196559</td>\n",
              "      <td>3764.118021</td>\n",
              "      <td>3344.666775</td>\n",
              "      <td>3881.977675</td>\n",
              "      <td>3301.000935</td>\n",
              "    </tr>\n",
              "  </tbody>\n",
              "</table>\n",
              "</div>"
            ],
            "text/plain": [
              "        Date Symbol      Open  ...        CPL20         PP20         PL20\n",
              "0 1999-11-18   AAPL  0.702595  ...  3535.337626  3971.235239  3389.817130\n",
              "1 1999-11-19   AAPL  0.690540  ...  3424.728469  3982.082396  3433.344211\n",
              "2 1999-11-22   AAPL  0.707900  ...  3435.745060  3881.977986  3346.696441\n",
              "3 1999-11-23   AAPL  0.707900  ...  3344.666775  3881.977675  3301.000935\n",
              "\n",
              "[4 rows x 19 columns]"
            ]
          },
          "metadata": {
            "tags": []
          },
          "execution_count": 18
        }
      ]
    },
    {
      "cell_type": "code",
      "metadata": {
        "id": "jP28cLQryt84"
      },
      "source": [
        "# df = pd.read_csv(\"/content/drive/My Drive/capstone/lawrence_data.csv\")"
      ],
      "execution_count": 43,
      "outputs": []
    },
    {
      "cell_type": "code",
      "metadata": {
        "id": "I6-4MD7V8brh"
      },
      "source": [
        "ind = list(df[(df['CPP20']>=10)&(df['CPP20']<=100)].index)\n",
        "ind = sample(ind,len(ind))\n",
        "X_data=[]; y_data=[];\n",
        "s_num=2000;\n",
        "\n",
        "for i in ind[:s_num]:\n",
        "    x = df.loc[i-(bwd_window-1):i,:]['Close'].values\n",
        "    s = df.loc[i-(bwd_window-1):i,:]['Symbol'].values\n",
        "    y = df.loc[i-(bwd_window-1):i,:].index.values\n",
        "    y = y[-1]-y[0]+1\n",
        "    if np.sum(~np.isnan(x))==bwd_window and y==bwd_window and s[0]==s[-1]:\n",
        "        X_data.append( (x-np.mean(x))/np.std(x) )\n",
        "        y_data.append( df.loc[i,:]['CPP20'] )\n",
        "        \n",
        "X_data = np.array(X_data)\n",
        "y_data = np.array(y_data)\n",
        "print(X_data.shape, y_data.shape)\n",
        "\n",
        "from sklearn.utils import shuffle\n",
        "from sklearn.model_selection import train_test_split\n",
        "X_data, y_data = shuffle(X_data, y_data, random_state=42)\n",
        "X_train, X_test, y_train, y_test = train_test_split(X_data, y_data, test_size=0.2, random_state=42)\n",
        "print(X_train.shape, X_test.shape, y_train.shape, y_test.shape)"
      ],
      "execution_count": null,
      "outputs": []
    },
    {
      "cell_type": "code",
      "metadata": {
        "scrolled": false,
        "id": "UNO55Y0X8brk"
      },
      "source": [
        "from sklearn.ensemble import AdaBoostClassifier\n",
        "from sklearn.cluster import KMeans, SpectralClustering\n",
        "\n",
        "clu = KMeans(n_clusters=n_clusters,random_state=0)\n",
        "\n",
        "clu.fit( X_data ); \n",
        "clusters= clu.predict(X_data)"
      ],
      "execution_count": 52,
      "outputs": []
    },
    {
      "cell_type": "code",
      "metadata": {
        "id": "Tc55DYT1w5Dh"
      },
      "source": [
        "clusters= clu.predict(X_data)\n",
        "labels1 = clu.labels_\n"
      ],
      "execution_count": 53,
      "outputs": []
    },
    {
      "cell_type": "code",
      "metadata": {
        "id": "CvvM1dKvyWFD"
      },
      "source": [
        "dict_lawrence = {}\n",
        "\n",
        "for i in range(0,10):\n",
        "  dict_lawrence[i] = list()\n",
        "\n",
        "for ind, arr in enumerate(X_data):\n",
        "  dict_lawrence[clusters[ind]].append(arr)"
      ],
      "execution_count": 63,
      "outputs": []
    },
    {
      "cell_type": "code",
      "metadata": {
        "id": "ZUxNnzDBxfPM",
        "outputId": "d16ab6ae-a0b7-42e1-e724-ec6c279ec4b3",
        "colab": {
          "base_uri": "https://localhost:8080/",
          "height": 34
        }
      },
      "source": [
        "clusters_n = [len(j) for j in dict_lawrence.values()]\n",
        "clusters_n\n"
      ],
      "execution_count": 64,
      "outputs": [
        {
          "output_type": "execute_result",
          "data": {
            "text/plain": [
              "[181, 158, 148, 153, 284, 237, 125, 187, 383, 118]"
            ]
          },
          "metadata": {
            "tags": []
          },
          "execution_count": 64
        }
      ]
    },
    {
      "cell_type": "code",
      "metadata": {
        "id": "ygy05ywh1ck0",
        "outputId": "6dcb1e9e-329e-4323-b8b5-0fe3d51a7f7e",
        "colab": {
          "base_uri": "https://localhost:8080/",
          "height": 187
        }
      },
      "source": [
        "import tslearn\n",
        "from tslearn.metrics import dtw, cdist_dtw\n",
        "\n",
        "def DTW(cluster_array):\n",
        "    n = len(cluster_array)\n",
        "    total_distance = 0\n",
        "    # Nested loop for all possible pairs\n",
        "    for i in range(n):\n",
        "        for j in range(n):\n",
        "            total_distance = total_distance + dtw(cluster_array[i], cluster_array[j])\n",
        "\n",
        "    return total_distance\n",
        "total = 0\n",
        "for i in range(0,10):\n",
        "  d = DTW(dict_lawrence[i])\n",
        "  total = total + d\n",
        "  print(\"Cluster {} has distance {}\".format(i, d))"
      ],
      "execution_count": 84,
      "outputs": [
        {
          "output_type": "stream",
          "text": [
            "Cluster 0 has distance 127417.1792664453\n",
            "Cluster 1 has distance 89695.237079943\n",
            "Cluster 2 has distance 85449.85917513732\n",
            "Cluster 3 has distance 88587.83110967228\n",
            "Cluster 4 has distance 264302.75707859517\n",
            "Cluster 5 has distance 180487.2087382034\n",
            "Cluster 6 has distance 67269.33126323386\n",
            "Cluster 7 has distance 145403.95804640866\n",
            "Cluster 8 has distance 384455.9462651699\n",
            "Cluster 9 has distance 57771.28409518629\n"
          ],
          "name": "stdout"
        }
      ]
    },
    {
      "cell_type": "code",
      "metadata": {
        "id": "ev6EBwmxB2sT",
        "outputId": "aacb42d9-235b-4e6b-d7d6-1b094804bc4f",
        "colab": {
          "base_uri": "https://localhost:8080/",
          "height": 34
        }
      },
      "source": [
        "total"
      ],
      "execution_count": 85,
      "outputs": [
        {
          "output_type": "execute_result",
          "data": {
            "text/plain": [
              "1490840.592117995"
            ]
          },
          "metadata": {
            "tags": []
          },
          "execution_count": 85
        }
      ]
    }
  ]
}