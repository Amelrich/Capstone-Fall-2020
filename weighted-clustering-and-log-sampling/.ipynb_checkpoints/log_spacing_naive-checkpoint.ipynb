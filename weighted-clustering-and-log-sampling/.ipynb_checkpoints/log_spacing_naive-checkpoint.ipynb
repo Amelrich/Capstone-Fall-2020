{
 "cells": [
  {
   "cell_type": "markdown",
   "metadata": {},
   "source": [
    "Beware: This file is incomplete, as is, it will not run correctly.\n",
    "However, parts of this file may be useful if you aim to implement a log-sampling of a time series."
   ]
  },
  {
   "cell_type": "code",
   "execution_count": null,
   "metadata": {},
   "outputs": [],
   "source": [
    "import os\n",
    "import numpy as np\n",
    "import pandas as pd\n",
    "import matplotlib.pyplot as plt\n",
    "from datetime import datetime\n",
    "from random import sample\n",
    "from sklearn.model_selection import cross_val_score, KFold\n",
    "from pandas import *\n",
    "from sklearn.linear_model import LinearRegression\n",
    "from scipy import stats\n",
    "#import seaborn as sns\n",
    "import sys\n"
   ]
  },
  {
   "cell_type": "code",
   "execution_count": 32,
   "metadata": {},
   "outputs": [
    {
     "name": "stdout",
     "output_type": "stream",
     "text": [
      "C:\\Users\\Max Tchibozo\\Desktop\\CAPSTONE\\Capstone-Fall-2020\\weighted-clustering-and-log-sampling\n"
     ]
    }
   ],
   "source": [
    "# This is the place where your Capstone folder should be\n",
    "main_path = os.getcwd()\n",
    "print(main_path)\n",
    "data_path = '..\\\\data\\\\'"
   ]
  },
  {
   "cell_type": "code",
   "execution_count": 33,
   "metadata": {},
   "outputs": [
    {
     "name": "stdout",
     "output_type": "stream",
     "text": [
      "   Unnamed: 0 Symbol             GICS Sector\n",
      "0           0    MMM             Industrials\n",
      "1           1    ABT             Health Care\n",
      "2           2   ABBV             Health Care\n",
      "3           3   ABMD             Health Care\n",
      "4           4    ACN  Information Technology\n"
     ]
    }
   ],
   "source": [
    "# I put my sp500.csv file inside a folder called data\n",
    "os.chdir(data_path)\n",
    "symbols = pd.read_csv('sp500.csv')\n",
    "print(symbols.head())\n",
    "os.chdir(main_path)"
   ]
  },
  {
   "cell_type": "code",
   "execution_count": 42,
   "metadata": {
    "scrolled": true
   },
   "outputs": [
    {
     "data": {
      "text/html": [
       "<div>\n",
       "<style scoped>\n",
       "    .dataframe tbody tr th:only-of-type {\n",
       "        vertical-align: middle;\n",
       "    }\n",
       "\n",
       "    .dataframe tbody tr th {\n",
       "        vertical-align: top;\n",
       "    }\n",
       "\n",
       "    .dataframe thead th {\n",
       "        text-align: right;\n",
       "    }\n",
       "</style>\n",
       "<table border=\"1\" class=\"dataframe\">\n",
       "  <thead>\n",
       "    <tr style=\"text-align: right;\">\n",
       "      <th></th>\n",
       "      <th>Date</th>\n",
       "      <th>Adj Close</th>\n",
       "      <th>Volume</th>\n",
       "      <th>Symbol</th>\n",
       "    </tr>\n",
       "  </thead>\n",
       "  <tbody>\n",
       "    <tr>\n",
       "      <th>0</th>\n",
       "      <td>1999-11-18</td>\n",
       "      <td>27.257610</td>\n",
       "      <td>62546300.0</td>\n",
       "      <td>A</td>\n",
       "    </tr>\n",
       "    <tr>\n",
       "      <th>1</th>\n",
       "      <td>1999-11-19</td>\n",
       "      <td>25.011959</td>\n",
       "      <td>15234100.0</td>\n",
       "      <td>A</td>\n",
       "    </tr>\n",
       "    <tr>\n",
       "      <th>2</th>\n",
       "      <td>1999-11-22</td>\n",
       "      <td>27.257610</td>\n",
       "      <td>6577800.0</td>\n",
       "      <td>A</td>\n",
       "    </tr>\n",
       "    <tr>\n",
       "      <th>3</th>\n",
       "      <td>1999-11-23</td>\n",
       "      <td>24.779648</td>\n",
       "      <td>5975600.0</td>\n",
       "      <td>A</td>\n",
       "    </tr>\n",
       "    <tr>\n",
       "      <th>4</th>\n",
       "      <td>1999-11-24</td>\n",
       "      <td>25.437859</td>\n",
       "      <td>4843200.0</td>\n",
       "      <td>A</td>\n",
       "    </tr>\n",
       "  </tbody>\n",
       "</table>\n",
       "</div>"
      ],
      "text/plain": [
       "        Date  Adj Close      Volume Symbol\n",
       "0 1999-11-18  27.257610  62546300.0      A\n",
       "1 1999-11-19  25.011959  15234100.0      A\n",
       "2 1999-11-22  27.257610   6577800.0      A\n",
       "3 1999-11-23  24.779648   5975600.0      A\n",
       "4 1999-11-24  25.437859   4843200.0      A"
      ]
     },
     "execution_count": 42,
     "metadata": {},
     "output_type": "execute_result"
    }
   ],
   "source": [
    "import glob\n",
    "import pandas as pd\n",
    "\n",
    "# get data file names - this is for windows (you might have to change the \\\\ to / with Linux/Mac)\n",
    "path = main_path + '\\\\data\\\\'\n",
    "path = data_path\n",
    "filenames = glob.glob(path + \"*.csv\")\n",
    "dfs = []\n",
    "for filename in sorted(filenames):\n",
    "    if filename != '..\\data\\sp500.csv':\n",
    "        _= pd.read_csv(filename)\n",
    "        _['Symbol']=filename.split('\\\\')[-1].split('.')[0] #Maxime: I updated this part with the '\\\\' which is for Windows. You might have to change it back!\n",
    "        _['Date'] = pd.to_datetime(_.Date)\n",
    "        _ = _.sort_values(by=['Date']).reset_index(drop=True)\n",
    "        dfs.append(_)\n",
    "        \n",
    "\n",
    "df_concat = pd.concat(dfs, ignore_index=True)\n",
    "df_concat.head()"
   ]
  },
  {
   "cell_type": "code",
   "execution_count": null,
   "metadata": {},
   "outputs": [],
   "source": [
    "df = df_concat.copy()\n",
    "df.loc[df.Volume==0,['Open','High','Low','Close','Volume']]=np.nan\n",
    "\n",
    "df['Open']  = df['Open'] /df['Close']*df['Adj Close']\n",
    "df['High']  = df['High'] /df['Close']*df['Adj Close']\n",
    "df['Low']   = df['Low']  /df['Close']*df['Adj Close']\n",
    "df['Close'] = df['Close']/df['Close']*df['Adj Close']\n",
    "\n",
    "for fwd_window in [5,10,20]:\n",
    "    df['fwd_max_close'] = df.iloc[::-1].groupby('Symbol', sort=False).rolling(fwd_window, on='Close', min_periods=fwd_window).Close.max().iloc[::-1].reset_index(name='field')['field']\n",
    "    df['fwd_min_close'] = df.iloc[::-1].groupby('Symbol', sort=False).rolling(fwd_window, on='Close', min_periods=fwd_window).Close.min().iloc[::-1].reset_index(name='field')['field']\n",
    "    df['CPP'+str(fwd_window)] = 100*df['fwd_max_close']/df['Close']-100\n",
    "    df['CPL'+str(fwd_window)] = 100*df['fwd_min_close']/df['Close']-100\n",
    "    \n",
    "    df['fwd_max_high']  = df.iloc[::-1].groupby('Symbol', sort=False).rolling(fwd_window, on='High', min_periods=fwd_window).High.max().iloc[::-1].reset_index(name='field')['field']\n",
    "    df['fwd_min_low']   = df.iloc[::-1].groupby('Symbol', sort=False).rolling(fwd_window, on='Low',  min_periods=fwd_window).Low.min().iloc[::-1].reset_index(name='field')['field']\n",
    "    df['PP'+str(fwd_window)] = 100*df['fwd_max_high']/df['Open']-100\n",
    "    df['PL'+str(fwd_window)] = 100*df['fwd_min_low']/df['Open']-100\n",
    "    df = df.drop(columns=['fwd_max_close','fwd_min_close','fwd_max_high','fwd_min_low'])\n",
    "\n",
    "    \n",
    "df = df[(df.Date<'2015-01-01')&(df.Date>='1990-01-01')]\n",
    "df = df[~df.isnull()]\n",
    "\n",
    "ind = list(df[(df['CPP20']>=10)&(df['CPP20']<=100)].index)\n",
    "ind = sample(ind,len(ind))\n"
   ]
  },
  {
   "cell_type": "code",
   "execution_count": 44,
   "metadata": {},
   "outputs": [],
   "source": [
    "df.drop(['Open', 'High', 'Low', 'Close'], axis=1, inplace=True)"
   ]
  },
  {
   "cell_type": "code",
   "execution_count": 45,
   "metadata": {},
   "outputs": [
    {
     "name": "stderr",
     "output_type": "stream",
     "text": [
      "C:\\ProgramData\\Anaconda3\\lib\\site-packages\\ipykernel_launcher.py:1: FutureWarning: The pandas.np module is deprecated and will be removed from pandas in a future version. Import numpy directly instead\n",
      "  \"\"\"Entry point for launching an IPython kernel.\n",
      "C:\\ProgramData\\Anaconda3\\lib\\site-packages\\ipykernel_launcher.py:2: FutureWarning: The pandas.np module is deprecated and will be removed from pandas in a future version. Import numpy directly instead\n",
      "  \n"
     ]
    }
   ],
   "source": [
    "log_values = np.logspace(0, 2, num=50) # 50 logarithmically spaced values between 1 and 100\n",
    "b = np.unique([int(round(num-1)) for num in log_values])\n",
    "X_data = []\n",
    "X_data_complete = []\n",
    "s_num=50000\n",
    "bwd_window=100\n",
    "for i in ind[:s_num]:\n",
    "    time_series = df.loc[i-(bwd_window-1):i,:]['Adj Close'].values[::-1]\n",
    "    s = df.loc[i-(bwd_window-1):i,:]['Symbol'].values\n",
    "    y = df.loc[i-(bwd_window-1):i,:].index.values\n",
    "    y = y[-1]-y[0]+1\n",
    "    if np.sum(~np.isnan(time_series))==bwd_window and y==bwd_window and s[0]==s[-1]:\n",
    "        data_complete = (time_series-np.mean(time_series))/np.std(time_series)\n",
    "        x = time_series[b]\n",
    "        data = (x-np.mean(time_series))/np.std(time_series)\n",
    "        X_data.append(data)\n",
    "        X_data_complete.append(data_complete)"
   ]
  },
  {
   "cell_type": "code",
   "execution_count": 51,
   "metadata": {},
   "outputs": [
    {
     "data": {
      "text/plain": [
       "[]"
      ]
     },
     "execution_count": 51,
     "metadata": {},
     "output_type": "execute_result"
    }
   ],
   "source": []
  },
  {
   "cell_type": "code",
   "execution_count": 46,
   "metadata": {},
   "outputs": [
    {
     "name": "stdout",
     "output_type": "stream",
     "text": [
      "(0,) (0,)\n"
     ]
    },
    {
     "name": "stderr",
     "output_type": "stream",
     "text": [
      "C:\\ProgramData\\Anaconda3\\lib\\site-packages\\ipykernel_launcher.py:1: FutureWarning: The pandas.np module is deprecated and will be removed from pandas in a future version. Import numpy directly instead\n",
      "  \"\"\"Entry point for launching an IPython kernel.\n",
      "C:\\ProgramData\\Anaconda3\\lib\\site-packages\\ipykernel_launcher.py:2: FutureWarning: The pandas.np module is deprecated and will be removed from pandas in a future version. Import numpy directly instead\n",
      "  \n"
     ]
    }
   ],
   "source": [
    "X_data = np.array(X_data)\n",
    "X_data_complete = np.array(X_data_complete)\n",
    "\n",
    "from sklearn.utils import shuffle\n",
    "from sklearn.model_selection import train_test_split\n",
    "X_data, X_data_complete = shuffle(X_data, X_data_complete, random_state=42)\n",
    "print(X_data.shape, X_data_complete.shape)"
   ]
  },
  {
   "cell_type": "code",
   "execution_count": null,
   "metadata": {},
   "outputs": [],
   "source": [
    "from sklearn.cluster import KMeans\n",
    "\n",
    "clu = KMeans(n_clusters=10, random_state=0)\n",
    "clu.fit(X_data)\n",
    "labels1 = clu.labels_"
   ]
  },
  {
   "cell_type": "markdown",
   "metadata": {},
   "source": [
    "### Plot the clustered time-series"
   ]
  },
  {
   "cell_type": "code",
   "execution_count": null,
   "metadata": {},
   "outputs": [],
   "source": [
    "tick_locations = np.arange(99, -1, -1)\n",
    "tick_locations = tick_locations[b][::-1]"
   ]
  },
  {
   "cell_type": "code",
   "execution_count": null,
   "metadata": {},
   "outputs": [],
   "source": [
    "import matplotlib\n",
    "%matplotlib inline"
   ]
  },
  {
   "cell_type": "code",
   "execution_count": null,
   "metadata": {},
   "outputs": [],
   "source": [
    "matplotlib.rc('xtick', labelsize=8) "
   ]
  },
  {
   "cell_type": "code",
   "execution_count": null,
   "metadata": {
    "scrolled": false
   },
   "outputs": [],
   "source": [
    "# We Look at the type of values that have been stored in cluster 1\n",
    "for cluster_nb in range(10):\n",
    "    indices = [i for i in range(len(labels1)) if labels1[i] == cluster_nb]\n",
    "    mean_time_series = X_data_complete[indices].mean(0)\n",
    "    fig, axes = plt.subplots(4, 1,figsize=(20,10), dpi=100)\n",
    "    fig.suptitle('Examples of Time Series in Cluster:' + str(cluster_nb), fontsize=20)\n",
    "    for i in range(4):\n",
    "        axes[i].plot(mean_time_series[::-1], \"r--\", linewidth=0.5)\n",
    "        axes[i].plot(X_data_complete[indices[i]][::-1], linewidth=0.5)\n",
    "        axes[i].scatter(tick_locations, X_data[indices[i]][::-1], s=25)\n",
    "        axes[i].set_xticks(ticks=tick_locations)\n",
    "    plt.show()\n",
    "#    fig.savefig(\"log_spaced_timeseries_kmeans_\" + str(cluster_nb) + \".png\", dpi=200)"
   ]
  },
  {
   "cell_type": "code",
   "execution_count": null,
   "metadata": {},
   "outputs": [],
   "source": []
  }
 ],
 "metadata": {
  "kernelspec": {
   "display_name": "Python 3",
   "language": "python",
   "name": "python3"
  },
  "language_info": {
   "codemirror_mode": {
    "name": "ipython",
    "version": 3
   },
   "file_extension": ".py",
   "mimetype": "text/x-python",
   "name": "python",
   "nbconvert_exporter": "python",
   "pygments_lexer": "ipython3",
   "version": "3.6.10"
  }
 },
 "nbformat": 4,
 "nbformat_minor": 4
}
