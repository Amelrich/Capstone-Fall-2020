{
  "nbformat": 4,
  "nbformat_minor": 0,
  "metadata": {
    "kernelspec": {
      "display_name": "Python 3",
      "language": "python",
      "name": "python3"
    },
    "language_info": {
      "codemirror_mode": {
        "name": "ipython",
        "version": 3
      },
      "file_extension": ".py",
      "mimetype": "text/x-python",
      "name": "python",
      "nbconvert_exporter": "python",
      "pygments_lexer": "ipython3",
      "version": "3.6.10"
    },
    "colab": {
      "name": "kassie_preprocessing.ipynb",
      "provenance": [],
      "collapsed_sections": [],
      "toc_visible": true,
      "include_colab_link": true
    }
  },
  "cells": [
    {
      "cell_type": "markdown",
      "metadata": {
        "id": "view-in-github",
        "colab_type": "text"
      },
      "source": [
        "<a href=\"https://colab.research.google.com/github/Amelrich/Capstone-Fall-2020/blob/kassie-preprocessing/skipped-padded/preprocessing/preprocessing_fourier.ipynb\" target=\"_parent\"><img src=\"https://colab.research.google.com/assets/colab-badge.svg\" alt=\"Open In Colab\"/></a>"
      ]
    },
    {
      "cell_type": "code",
      "metadata": {
        "id": "faTOmY4IQ3BO"
      },
      "source": [
        "import numpy as np\n",
        "import pandas as pd\n",
        "import pandas_datareader.data as web\n",
        "import matplotlib.pyplot as plt\n",
        "import tensorflow as tf\n",
        "from sklearn.preprocessing  import MinMaxScaler\n",
        "from scipy.fftpack import fft,ifft"
      ],
      "execution_count": null,
      "outputs": []
    },
    {
      "cell_type": "code",
      "metadata": {
        "id": "jspyxLEVFL7j",
        "colab": {
          "base_uri": "https://localhost:8080/"
        },
        "outputId": "f568142f-eb27-4a86-bf00-3e1f81ffac55"
      },
      "source": [
        "from google.colab import drive\n",
        "drive.mount('/content/drive')"
      ],
      "execution_count": null,
      "outputs": [
        {
          "output_type": "stream",
          "text": [
            "Mounted at /content/drive\n"
          ],
          "name": "stdout"
        }
      ]
    },
    {
      "cell_type": "markdown",
      "metadata": {
        "id": "QZV8J2ZSgKOB"
      },
      "source": [
        "### Read saved data that was created using Amaurys code by using this\n",
        "`TS_generator(nb_timeseries=4000, chunk_size=60)`"
      ]
    },
    {
      "cell_type": "code",
      "metadata": {
        "id": "uwNl5Dy-FGBu"
      },
      "source": [
        "X = np.load(\"/content/drive/My Drive/capstone/timeseries.npy\")"
      ],
      "execution_count": null,
      "outputs": []
    },
    {
      "cell_type": "markdown",
      "metadata": {
        "id": "mVozYUe0JK-Z"
      },
      "source": [
        "### How we achieve multiscale data points\n",
        "\n",
        "Two methods\n",
        "\n",
        "* By picking prices every consecutive, alterate and every 2 days \n",
        "\n",
        "* By picking consecutive prices for 50, 100, 150 days.\n",
        "\n",
        "Please see methods `get_multiscale_skipped_values` and `get_multiscale_consecutive_values`\n",
        "\n"
      ]
    },
    {
      "cell_type": "code",
      "metadata": {
        "id": "B-mi3Td6FcBl",
        "colab": {
          "base_uri": "https://localhost:8080/"
        },
        "outputId": "e5b790b0-19ed-4fc2-cc9b-06994c50f6cf"
      },
      "source": [
        "def to_fourier(liste):\n",
        "  return np.array(fft(np.array(liste))[1:13]).real\n",
        "\n",
        "def get_multiscale_skipped_values(df_start_end):\n",
        "  days_60 = df_start_end[-60:]\n",
        "  days_40 = [0 if i % 2 else x for i, x in enumerate(days_60)]\n",
        "  days_20 = [0 if i % 3 else x for i, x in enumerate(days_60)]\n",
        "  dictionary = {'60_days': to_fourier(days_60), '40_days': to_fourier(days_40), \n",
        "                '20_days': to_fourier(days_20)}\n",
        "  return dictionary\n",
        "\n",
        "def get_multiscale_consecutive_values(df_start_end):\n",
        "  days_20 = df_start_end[-20:]\n",
        "  days_40 = df_start_end[-40:]\n",
        "  days_60 = df_start_end[-60:]\n",
        "  \n",
        "  days_20_all = np.append(np.zeros((40)), days_20 ,0)\n",
        "  days_40_all = np.append(np.zeros((20)), days_40,0)\n",
        "  \n",
        "  dictionary = {'20_days': to_fourier(days_20_all), '40_days': to_fourier(days_40_all),\n",
        "                    '60_days': to_fourier(days_60)}\n",
        "  return dictionary\n",
        "\n",
        "\n",
        "skipped_values = []\n",
        "consecutive_values = []\n",
        "n = 0\n",
        "for df in X:\n",
        " \n",
        "  n = n + 1\n",
        "  if n%1000 == 0:\n",
        "    print(\"{} stocksout of {} completed\".format(n,len(X)))\n",
        "  \n",
        "  scaler = MinMaxScaler()\n",
        "  data_scaled = scaler.fit_transform(df[:,0].reshape(-1, 1)).reshape(1,-1)[0]\n",
        "  \n",
        "  dictionary_skipped_values = get_multiscale_skipped_values(data_scaled)\n",
        "  dictionary_consecutive_values = get_multiscale_consecutive_values(data_scaled)\n",
        " \n",
        "  datapoint_skipped_values = pd.DataFrame(dictionary_skipped_values).to_numpy()\n",
        "  datapoint_consecutive_values = pd.DataFrame(dictionary_consecutive_values).to_numpy()\n",
        "\n",
        "\n",
        "  skipped_values.append(datapoint_skipped_values)\n",
        "  consecutive_values.append(datapoint_consecutive_values)\n"
      ],
      "execution_count": null,
      "outputs": [
        {
          "output_type": "stream",
          "text": [
            "1000 stocksout of 4000 completed\n",
            "2000 stocksout of 4000 completed\n",
            "3000 stocksout of 4000 completed\n",
            "4000 stocksout of 4000 completed\n"
          ],
          "name": "stdout"
        }
      ]
    },
    {
      "cell_type": "code",
      "metadata": {
        "id": "fcFYsA6j52gR"
      },
      "source": [
        "np.save(\"/content/drive/My Drive/capstone/skipped_values_fourier.npy\", skipped_values)\n",
        "np.save(\"/content/drive/My Drive/capstone/consecutive_values_fourier.npy\", consecutive_values)"
      ],
      "execution_count": null,
      "outputs": []
    },
    {
      "cell_type": "markdown",
      "metadata": {
        "id": "sZavT7TAwNqk"
      },
      "source": [
        "## Visualization of data points"
      ]
    },
    {
      "cell_type": "code",
      "metadata": {
        "id": "PA6_mvXZsZ7y",
        "colab": {
          "base_uri": "https://localhost:8080/",
          "height": 366
        },
        "outputId": "76d356b9-78aa-4d62-d232-8d87f1c62065"
      },
      "source": [
        "from matplotlib import pyplot as plt \n",
        "\n",
        "fig, ax = plt.subplots()\n",
        "lines = ax.stem(datapoint_skipped_values[:,2])\n",
        "ax.set_title(\"Skipped Values\") \n",
        "ax.set(xlabel='days')\n",
        "ax.legend(['60 days', '40 days', '20 days'])"
      ],
      "execution_count": null,
      "outputs": [
        {
          "output_type": "stream",
          "text": [
            "/usr/local/lib/python3.6/dist-packages/ipykernel_launcher.py:4: UserWarning: In Matplotlib 3.3 individual lines on a stem plot will be added as a LineCollection instead of individual lines. This significantly improves the performance of a stem plot. To remove this warning and switch to the new behaviour, set the \"use_line_collection\" keyword argument to True.\n",
            "  after removing the cwd from sys.path.\n"
          ],
          "name": "stderr"
        },
        {
          "output_type": "execute_result",
          "data": {
            "text/plain": [
              "<matplotlib.legend.Legend at 0x7fae369cda20>"
            ]
          },
          "metadata": {
            "tags": []
          },
          "execution_count": 18
        },
        {
          "output_type": "display_data",
          "data": {
            "image/png": "[encoded data removed]",
            "text/plain": [
              "<Figure size 432x288 with 1 Axes>"
            ]
          },
          "metadata": {
            "tags": [],
            "needs_background": "light"
          }
        }
      ]
    },
    {
      "cell_type": "code",
      "metadata": {
        "id": "CfDkb1NAr_2Z",
        "colab": {
          "base_uri": "https://localhost:8080/",
          "height": 366
        },
        "outputId": "400c2304-193d-4736-dc55-c18113feb4e0"
      },
      "source": [
        "from matplotlib import pyplot as plt \n",
        "\n",
        "fig, ax = plt.subplots()\n",
        "lines = ax.stem(datapoint_consecutive_values[:,0])\n",
        "ax.set_title(\"Padded Values\") \n",
        "ax.set(xlabel='days')\n",
        "ax.legend(['20 days', '40 days', '60 days'])"
      ],
      "execution_count": null,
      "outputs": [
        {
          "output_type": "stream",
          "text": [
            "/usr/local/lib/python3.6/dist-packages/ipykernel_launcher.py:4: UserWarning: In Matplotlib 3.3 individual lines on a stem plot will be added as a LineCollection instead of individual lines. This significantly improves the performance of a stem plot. To remove this warning and switch to the new behaviour, set the \"use_line_collection\" keyword argument to True.\n",
            "  after removing the cwd from sys.path.\n"
          ],
          "name": "stderr"
        },
        {
          "output_type": "execute_result",
          "data": {
            "text/plain": [
              "<matplotlib.legend.Legend at 0x7fae36c0b0f0>"
            ]
          },
          "metadata": {
            "tags": []
          },
          "execution_count": 20
        },
        {
          "output_type": "display_data",
          "data": {
            "image/png": "[encoded data removed]",
            "text/plain": [
              "<Figure size 432x288 with 1 Axes>"
            ]
          },
          "metadata": {
            "tags": [],
            "needs_background": "light"
          }
        }
      ]
    },
    {
      "cell_type": "code",
      "metadata": {
        "id": "mJC8c-Wm6FIO"
      },
      "source": [
        ""
      ],
      "execution_count": null,
      "outputs": []
    }
  ]
}