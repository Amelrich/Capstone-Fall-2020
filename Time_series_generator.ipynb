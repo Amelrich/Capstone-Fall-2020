{
  "nbformat": 4,
  "nbformat_minor": 0,
  "metadata": {
    "colab": {
      "name": "Time series generator.ipynb",
      "provenance": [],
      "collapsed_sections": []
    },
    "kernelspec": {
      "name": "python3",
      "display_name": "Python 3"
    }
  },
  "cells": [
    {
      "cell_type": "markdown",
      "metadata": {
        "id": "eRxOGCAOvnva"
      },
      "source": [
        "# **Time Series Generator**\n",
        "\n",
        "This script will make you able to generate a chosen number of time series of random stocks at random period of time.\n"
      ]
    },
    {
      "cell_type": "code",
      "metadata": {
        "id": "nyVZUmpCkYDR"
      },
      "source": [
        "import numpy as np\n",
        "import numpy.random as rd\n",
        "import pandas as pd"
      ],
      "execution_count": 2,
      "outputs": []
    },
    {
      "cell_type": "markdown",
      "metadata": {
        "id": "BCbskjK4vTki"
      },
      "source": [
        "For Colab, it downloads the data using the following code. \n",
        "\n",
        "If you work locally be sure to have the folder *data/*. You can download it from the repo."
      ]
    },
    {
      "cell_type": "code",
      "metadata": {
        "id": "8e6_qZp3jg8t"
      },
      "source": [
        "try:\n",
        "  from google.colab import files\n",
        "  !wget -q https://github.com/Amelrich/Capstone-Fall-2020/archive/master.zip\n",
        "  !unzip -q master.zip\n",
        "  !mv Capstone-Fall-2020-master/data/ data/\n",
        "  !rm -rf master.zip Capstone-Fall-2020-master/\n",
        "except:\n",
        "  print(\"only in Colab\")"
      ],
      "execution_count": 3,
      "outputs": []
    },
    {
      "cell_type": "markdown",
      "metadata": {
        "id": "1PkfCqIhvzcO"
      },
      "source": [
        "## The generator\n",
        "\n",
        "It generates random timeseries picked from random stocks at random times.\n",
        "\n",
        "Currently you can access to the generated time series using the method `get_list_of_df` (see example below). Next improvements will allow to choose a wider range of structures like arrays etc.\n",
        "\n"
      ]
    },
    {
      "cell_type": "code",
      "metadata": {
        "id": "9t7JHidglgj5"
      },
      "source": [
        "class TS_generator:\n",
        "  def __init__(self, nb_timeseries=2000, chunk_size=100):\n",
        "    \n",
        "    self.chunk_size = chunk_size\n",
        "    self.nb_timeseries = nb_timeseries\n",
        "\n",
        "    #Retrieve the stocks names\n",
        "    self.symbols = pd.read_csv('https://raw.githubusercontent.com/Amelrich/Capstone-Fall-2020/master/sp500.csv', index_col=False)\n",
        "    self.symbols = list(self.symbols['Symbol'].values)\n",
        "    self.symbols = sorted(self.symbols)\n",
        "    self.symbols = ['BF-B' if x=='BF.B' else x for x in self.symbols]\n",
        "    self.symbols = ['BRK-B' if x=='BRK.B' else x for x in self.symbols]\n",
        "\n",
        "    self.list_df = []\n",
        "\n",
        "    #Build the random time series\n",
        "    self.build_()\n",
        "\n",
        "  def build_(self):\n",
        "\n",
        "    TS_list = []\n",
        "    indexes = [] #Starting date indexes\n",
        "    total_len = 0\n",
        "\n",
        "    for stock in self.symbols:\n",
        "      TS = pd.read_csv('data/'+stock+'.csv')\n",
        "      TS_list.append(TS)\n",
        "      indexes += list(range(total_len, total_len + len(TS) - self.chunk_size))\n",
        "      total_len += len(TS)\n",
        "\n",
        "    TS = pd.concat(TS_list, ignore_index=True)\n",
        "    del(TS_list)\n",
        "\n",
        "    #Pick random starting dates\n",
        "    random_starts = rd.choice(indexes, self.nb_timeseries)\n",
        "\n",
        "    for start in random_starts:\n",
        "      self.list_df.append( TS[start : start+self.chunk_size] )\n",
        "\n",
        "    del(TS)\n",
        "\n",
        "\n",
        "  def get_list_of_df(self):\n",
        "    #Return a list of time series dataframes\n",
        "    return self.list_df\n",
        "\n",
        "  def get_array(self):\n",
        "    #Return adjusted close array\n",
        "    close_array = np.zeros((self.nb_timeseries, self.chunk_size))\n",
        "\n",
        "    for i in range(self.nb_timeseries):\n",
        "      close_array[i,:] = self.list_df[i]['Adj Close'].to_numpy()\n",
        "\n",
        "    return close_array"
      ],
      "execution_count": 4,
      "outputs": []
    },
    {
      "cell_type": "markdown",
      "metadata": {
        "id": "d8yt85Fct5re"
      },
      "source": [
        "# Example"
      ]
    },
    {
      "cell_type": "code",
      "metadata": {
        "id": "yDscSoqRrloF",
        "outputId": "2af1f4f4-88e9-4558-d4b4-b7171aacad24",
        "colab": {
          "base_uri": "https://localhost:8080/",
          "height": 34
        }
      },
      "source": [
        "import time\n",
        "t = time.time()\n",
        "\n",
        "gen = TS_generator(nb_timeseries=10000, chunk_size=100) #For the syntax\n",
        "X = gen.get_list_of_df()\n",
        "\n",
        "print(\"Time to generate 10000 random timeseries:\", round(time.time()-t), 'sec')"
      ],
      "execution_count": 7,
      "outputs": [
        {
          "output_type": "stream",
          "text": [
            "Time to generate 10000 random timeseries: 5 sec\n"
          ],
          "name": "stdout"
        }
      ]
    },
    {
      "cell_type": "code",
      "metadata": {
        "id": "XgjKHmNhupEw",
        "outputId": "1a7b2e85-781a-4ec0-c085-045996d20a9a",
        "colab": {
          "base_uri": "https://localhost:8080/",
          "height": 204
        }
      },
      "source": [
        "X[0].head()"
      ],
      "execution_count": 15,
      "outputs": [
        {
          "output_type": "execute_result",
          "data": {
            "text/html": [
              "<div>\n",
              "<style scoped>\n",
              "    .dataframe tbody tr th:only-of-type {\n",
              "        vertical-align: middle;\n",
              "    }\n",
              "\n",
              "    .dataframe tbody tr th {\n",
              "        vertical-align: top;\n",
              "    }\n",
              "\n",
              "    .dataframe thead th {\n",
              "        text-align: right;\n",
              "    }\n",
              "</style>\n",
              "<table border=\"1\" class=\"dataframe\">\n",
              "  <thead>\n",
              "    <tr style=\"text-align: right;\">\n",
              "      <th></th>\n",
              "      <th>Date</th>\n",
              "      <th>Adj Close</th>\n",
              "      <th>Volume</th>\n",
              "      <th>Symbol</th>\n",
              "    </tr>\n",
              "  </thead>\n",
              "  <tbody>\n",
              "    <tr>\n",
              "      <th>10855</th>\n",
              "      <td>2009-04-28</td>\n",
              "      <td>41.912151</td>\n",
              "      <td>1849000.0</td>\n",
              "      <td>AAP</td>\n",
              "    </tr>\n",
              "    <tr>\n",
              "      <th>10856</th>\n",
              "      <td>2009-04-29</td>\n",
              "      <td>41.063866</td>\n",
              "      <td>1593800.0</td>\n",
              "      <td>AAP</td>\n",
              "    </tr>\n",
              "    <tr>\n",
              "      <th>10857</th>\n",
              "      <td>2009-04-30</td>\n",
              "      <td>42.172432</td>\n",
              "      <td>2504700.0</td>\n",
              "      <td>AAP</td>\n",
              "    </tr>\n",
              "    <tr>\n",
              "      <th>10858</th>\n",
              "      <td>2009-05-01</td>\n",
              "      <td>40.900021</td>\n",
              "      <td>1513800.0</td>\n",
              "      <td>AAP</td>\n",
              "    </tr>\n",
              "    <tr>\n",
              "      <th>10859</th>\n",
              "      <td>2009-05-04</td>\n",
              "      <td>42.201344</td>\n",
              "      <td>1186600.0</td>\n",
              "      <td>AAP</td>\n",
              "    </tr>\n",
              "  </tbody>\n",
              "</table>\n",
              "</div>"
            ],
            "text/plain": [
              "             Date  Adj Close     Volume Symbol\n",
              "10855  2009-04-28  41.912151  1849000.0    AAP\n",
              "10856  2009-04-29  41.063866  1593800.0    AAP\n",
              "10857  2009-04-30  42.172432  2504700.0    AAP\n",
              "10858  2009-05-01  40.900021  1513800.0    AAP\n",
              "10859  2009-05-04  42.201344  1186600.0    AAP"
            ]
          },
          "metadata": {
            "tags": []
          },
          "execution_count": 15
        }
      ]
    },
    {
      "cell_type": "code",
      "metadata": {
        "id": "63-SyBr7BvJz",
        "outputId": "f2752aa0-da76-49e8-963d-2471d56131ac",
        "colab": {
          "base_uri": "https://localhost:8080/",
          "height": 34
        }
      },
      "source": [
        "#Array version\n",
        "X = gen.get_array()\n",
        "X.shape"
      ],
      "execution_count": 17,
      "outputs": [
        {
          "output_type": "execute_result",
          "data": {
            "text/plain": [
              "(10000, 100)"
            ]
          },
          "metadata": {
            "tags": []
          },
          "execution_count": 17
        }
      ]
    },
    {
      "cell_type": "code",
      "metadata": {
        "id": "tSPngLS_44LW",
        "outputId": "704e73a9-2a4c-409c-ac14-4ebd552ae8bc",
        "colab": {
          "base_uri": "https://localhost:8080/",
          "height": 34
        }
      },
      "source": [
        "X[0,:5]"
      ],
      "execution_count": 18,
      "outputs": [
        {
          "output_type": "execute_result",
          "data": {
            "text/plain": [
              "array([41.91215134, 41.06386566, 42.17243195, 40.9000206 , 42.20134354])"
            ]
          },
          "metadata": {
            "tags": []
          },
          "execution_count": 18
        }
      ]
    },
    {
      "cell_type": "code",
      "metadata": {
        "id": "PDYMp-MU2R6B",
        "outputId": "7706816a-b6ea-40f6-d23b-c904c7251f88",
        "colab": {
          "base_uri": "https://localhost:8080/",
          "height": 34
        }
      },
      "source": [
        "#50 most recent prices\n",
        "X[:,50:].shape"
      ],
      "execution_count": 19,
      "outputs": [
        {
          "output_type": "execute_result",
          "data": {
            "text/plain": [
              "(10000, 50)"
            ]
          },
          "metadata": {
            "tags": []
          },
          "execution_count": 19
        }
      ]
    },
    {
      "cell_type": "code",
      "metadata": {
        "id": "G9atakgo4wUf"
      },
      "source": [
        ""
      ],
      "execution_count": 8,
      "outputs": []
    },
    {
      "cell_type": "code",
      "metadata": {
        "id": "307122TlddCi"
      },
      "source": [
        ""
      ],
      "execution_count": null,
      "outputs": []
    },
    {
      "cell_type": "code",
      "metadata": {
        "id": "3NMDSWw0ddVW"
      },
      "source": [
        ""
      ],
      "execution_count": null,
      "outputs": []
    }
  ]
}