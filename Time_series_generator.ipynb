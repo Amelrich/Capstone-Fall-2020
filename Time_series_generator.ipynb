{
  "nbformat": 4,
  "nbformat_minor": 0,
  "metadata": {
    "colab": {
      "name": "Time series generator.ipynb",
      "provenance": [],
      "collapsed_sections": []
    },
    "kernelspec": {
      "name": "python3",
      "display_name": "Python 3"
    }
  },
  "cells": [
    {
      "cell_type": "markdown",
      "metadata": {
        "id": "eRxOGCAOvnva"
      },
      "source": [
        "# **Time Series Generator**\n",
        "\n",
        "This script will make you able to generate a chosen number of time series of random stocks at random period of time.\n"
      ]
    },
    {
      "cell_type": "code",
      "metadata": {
        "id": "nyVZUmpCkYDR"
      },
      "source": [
        "import numpy as np\n",
        "import numpy.random as rd\n",
        "import pandas as pd"
      ],
      "execution_count": 5,
      "outputs": []
    },
    {
      "cell_type": "markdown",
      "metadata": {
        "id": "BCbskjK4vTki"
      },
      "source": [
        "For Colab, it downloads the data using the following code. \n",
        "\n",
        "If you work locally be sure to have the folder *data/*. You can download it from the repo."
      ]
    },
    {
      "cell_type": "code",
      "metadata": {
        "id": "8e6_qZp3jg8t"
      },
      "source": [
        "try:\n",
        "  from google.colab import files\n",
        "  !wget -q https://github.com/Amelrich/Capstone-Fall-2020/archive/master.zip\n",
        "  !unzip -q master.zip\n",
        "  !mv Capstone-Fall-2020-master/data/ data/\n",
        "  !rm -rf master.zip Capstone-Fall-2020-master/\n",
        "except:\n",
        "  print(\"only in Colab\")"
      ],
      "execution_count": 2,
      "outputs": []
    },
    {
      "cell_type": "markdown",
      "metadata": {
        "id": "1PkfCqIhvzcO"
      },
      "source": [
        "## The generator\n",
        "\n",
        "It generates random timeseries picked from random stocks at random times.\n",
        "\n",
        "Currently you can access to the generated time series using the method `get_list_of_df` (see example below). Next improvements will allow to choose a wider range of structures like arrays etc.\n",
        "\n"
      ]
    },
    {
      "cell_type": "code",
      "metadata": {
        "id": "9t7JHidglgj5"
      },
      "source": [
        "class TS_generator:\n",
        "  def __init__(self, nb_timeseries=2000, chunk_size=100):\n",
        "    \n",
        "    self.chunk_size = chunk_size\n",
        "    self.nb_timeseries = nb_timeseries\n",
        "\n",
        "    #Retrieve the stocks names\n",
        "    self.symbols = pd.read_csv('https://raw.githubusercontent.com/Amelrich/Capstone-Fall-2020/master/sp500.csv', index_col=False)\n",
        "    self.symbols = list(self.symbols['Symbol'].values)\n",
        "    self.symbols = sorted(self.symbols)\n",
        "    self.symbols = ['BF-B' if x=='BF.B' else x for x in self.symbols]\n",
        "    self.symbols = ['BRK-B' if x=='BRK.B' else x for x in self.symbols]\n",
        "\n",
        "    self.list_df = []\n",
        "\n",
        "    #Build the random time series\n",
        "    self.build_()\n",
        "\n",
        "  def build_(self):    \n",
        "    for _ in range(self.nb_timeseries):\n",
        "\n",
        "      #Pick a random stock\n",
        "      stock = self.symbols[rd.randint(len(self.symbols))]\n",
        "      TS = pd.read_csv('data/'+stock+'.csv')\n",
        "      TS = TS[['Adj Close','Volume']]\n",
        "      \n",
        "      #Pick a random starting point\n",
        "      timemax = len(TS) - self.chunk_size\n",
        "      start = rd.randint(timemax)\n",
        "      stock_df = TS[start: start+self.chunk_size]\n",
        "\n",
        "      self.list_df.append( stock_df )\n",
        "\n",
        "  def get_list_of_df(self):\n",
        "    return self.list_df"
      ],
      "execution_count": 13,
      "outputs": []
    },
    {
      "cell_type": "markdown",
      "metadata": {
        "id": "d8yt85Fct5re"
      },
      "source": [
        "# Example"
      ]
    },
    {
      "cell_type": "code",
      "metadata": {
        "id": "yDscSoqRrloF",
        "outputId": "05c4336e-44e1-4606-f8c0-169cd5c3c878",
        "colab": {
          "base_uri": "https://localhost:8080/",
          "height": 34
        }
      },
      "source": [
        "import time\n",
        "t = time.time()\n",
        "\n",
        "gen = TS_generator(nb_timeseries=2000, chunk_size=100) #default values but just for the syntax\n",
        "X = gen.get_list_of_df()\n",
        "\n",
        "print(\"Time to generate 2000 random timeseries:\", round(time.time()-t), 'sec')"
      ],
      "execution_count": 26,
      "outputs": [
        {
          "output_type": "stream",
          "text": [
            "Time to generate 2000 random timeseries: 15 sec\n"
          ],
          "name": "stdout"
        }
      ]
    },
    {
      "cell_type": "code",
      "metadata": {
        "id": "XgjKHmNhupEw",
        "outputId": "b49a774e-730d-4a2e-837f-2ec84e5338b4",
        "colab": {
          "base_uri": "https://localhost:8080/",
          "height": 204
        }
      },
      "source": [
        "X[0].head()"
      ],
      "execution_count": 22,
      "outputs": [
        {
          "output_type": "execute_result",
          "data": {
            "text/html": [
              "<div>\n",
              "<style scoped>\n",
              "    .dataframe tbody tr th:only-of-type {\n",
              "        vertical-align: middle;\n",
              "    }\n",
              "\n",
              "    .dataframe tbody tr th {\n",
              "        vertical-align: top;\n",
              "    }\n",
              "\n",
              "    .dataframe thead th {\n",
              "        text-align: right;\n",
              "    }\n",
              "</style>\n",
              "<table border=\"1\" class=\"dataframe\">\n",
              "  <thead>\n",
              "    <tr style=\"text-align: right;\">\n",
              "      <th></th>\n",
              "      <th>Adj Close</th>\n",
              "      <th>Volume</th>\n",
              "    </tr>\n",
              "  </thead>\n",
              "  <tbody>\n",
              "    <tr>\n",
              "      <th>1831</th>\n",
              "      <td>3.056906</td>\n",
              "      <td>2401200.0</td>\n",
              "    </tr>\n",
              "    <tr>\n",
              "      <th>1832</th>\n",
              "      <td>3.142576</td>\n",
              "      <td>2278800.0</td>\n",
              "    </tr>\n",
              "    <tr>\n",
              "      <th>1833</th>\n",
              "      <td>3.105746</td>\n",
              "      <td>2283600.0</td>\n",
              "    </tr>\n",
              "    <tr>\n",
              "      <th>1834</th>\n",
              "      <td>3.114553</td>\n",
              "      <td>2295600.0</td>\n",
              "    </tr>\n",
              "    <tr>\n",
              "      <th>1835</th>\n",
              "      <td>3.137771</td>\n",
              "      <td>2162800.0</td>\n",
              "    </tr>\n",
              "  </tbody>\n",
              "</table>\n",
              "</div>"
            ],
            "text/plain": [
              "      Adj Close     Volume\n",
              "1831   3.056906  2401200.0\n",
              "1832   3.142576  2278800.0\n",
              "1833   3.105746  2283600.0\n",
              "1834   3.114553  2295600.0\n",
              "1835   3.137771  2162800.0"
            ]
          },
          "metadata": {
            "tags": []
          },
          "execution_count": 22
        }
      ]
    },
    {
      "cell_type": "code",
      "metadata": {
        "id": "QS5sD5QmvLGq"
      },
      "source": [
        ""
      ],
      "execution_count": null,
      "outputs": []
    }
  ]
}