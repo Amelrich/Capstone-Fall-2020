{
  "nbformat": 4,
  "nbformat_minor": 0,
  "metadata": {
    "colab": {
      "name": "Time series generator.ipynb",
      "provenance": [],
      "collapsed_sections": []
    },
    "kernelspec": {
      "name": "python3",
      "display_name": "Python 3"
    }
  },
  "cells": [
    {
      "cell_type": "markdown",
      "metadata": {
        "id": "eRxOGCAOvnva"
      },
      "source": [
        "# **Time Series Generator**\n",
        "\n",
        "This script will make you able to generate a chosen number of time series of random stocks at random period of time.\n"
      ]
    },
    {
      "cell_type": "code",
      "metadata": {
        "id": "nyVZUmpCkYDR"
      },
      "source": [
        "import numpy as np\n",
        "import numpy.random as rd\n",
        "import pandas as pd"
      ],
      "execution_count": 1,
      "outputs": []
    },
    {
      "cell_type": "markdown",
      "metadata": {
        "id": "BCbskjK4vTki"
      },
      "source": [
        "For Colab, it downloads the data using the following code. \n",
        "\n",
        "If you work locally be sure to have the folder *data/*. You can download it from the repo."
      ]
    },
    {
      "cell_type": "code",
      "metadata": {
        "id": "8e6_qZp3jg8t"
      },
      "source": [
        "try:\n",
        "  from google.colab import files\n",
        "  !wget -q https://github.com/Amelrich/Capstone-Fall-2020/archive/master.zip\n",
        "  !unzip -q master.zip\n",
        "  !mv Capstone-Fall-2020-master/data/ data/\n",
        "  !rm -rf master.zip Capstone-Fall-2020-master/\n",
        "except:\n",
        "  print(\"only in Colab\")"
      ],
      "execution_count": 2,
      "outputs": []
    },
    {
      "cell_type": "markdown",
      "metadata": {
        "id": "1PkfCqIhvzcO"
      },
      "source": [
        "## The generator\n",
        "\n",
        "It generates random timeseries picked from random stocks at random times.\n",
        "\n",
        "Currently you can access to the generated time series using the method `get_list_of_df` (see example below). Next improvements will allow to choose a wider range of structures like arrays etc.\n",
        "\n"
      ]
    },
    {
      "cell_type": "code",
      "metadata": {
        "id": "9t7JHidglgj5"
      },
      "source": [
        "class TS_generator:\n",
        "  def __init__(self, nb_timeseries=2000, chunk_size=100):\n",
        "    \n",
        "    self.chunk_size = chunk_size\n",
        "    self.nb_timeseries = nb_timeseries\n",
        "\n",
        "    #Retrieve the stocks names\n",
        "    self.symbols = pd.read_csv('https://raw.githubusercontent.com/Amelrich/Capstone-Fall-2020/master/sp500.csv', index_col=False)\n",
        "    self.symbols = list(self.symbols['Symbol'].values)\n",
        "    self.symbols = sorted(self.symbols)\n",
        "    self.symbols = ['BF-B' if x=='BF.B' else x for x in self.symbols]\n",
        "    self.symbols = ['BRK-B' if x=='BRK.B' else x for x in self.symbols]\n",
        "\n",
        "    self.list_df = []\n",
        "\n",
        "    #Build the random time series\n",
        "    self.probabilities_()\n",
        "    self.build_()\n",
        "\n",
        "  def build_(self):\n",
        "    #Pick a random stocks\n",
        "    random_stocks = rd.choice(self.symbols, self.nb_timeseries, p=self.proba)\n",
        "\n",
        "    for stock in random_stocks:\n",
        "      TS = pd.read_csv('data/'+stock+'.csv')\n",
        "      \n",
        "      #Pick a random starting point\n",
        "      timemax = len(TS) - self.chunk_size\n",
        "      start = rd.randint(timemax)\n",
        "      stock_df = TS[start : start+self.chunk_size]\n",
        "\n",
        "      self.list_df.append( stock_df )\n",
        "\n",
        "  def probabilities_(self):\n",
        "    summary = np.load('data/summary.npy', allow_pickle='TRUE').item()\n",
        "\n",
        "    self.proba = np.array([summary[stock] for stock in summary.keys()]) - self.chunk_size\n",
        "    self.proba[self.proba < 0.0] = 0.0\n",
        "    self.proba = self.proba / self.proba.sum()\n",
        "\n",
        "\n",
        "  def get_list_of_df(self):\n",
        "    #Return a list of time series dataframes\n",
        "    return self.list_df\n",
        "\n",
        "  def get_array(self):\n",
        "    #Return adjusted close array\n",
        "    close_array = np.zeros((self.nb_timeseries, self.chunk_size))\n",
        "\n",
        "    for i in range(self.nb_timeseries):\n",
        "      close_array[i,:] = self.list_df[i]['Adj Close'].to_numpy()\n",
        "\n",
        "    return close_array"
      ],
      "execution_count": 3,
      "outputs": []
    },
    {
      "cell_type": "markdown",
      "metadata": {
        "id": "d8yt85Fct5re"
      },
      "source": [
        "# Example"
      ]
    },
    {
      "cell_type": "code",
      "metadata": {
        "id": "yDscSoqRrloF",
        "outputId": "1a6d1003-f9d4-45a9-c5df-7b87e688a5a2",
        "colab": {
          "base_uri": "https://localhost:8080/",
          "height": 34
        }
      },
      "source": [
        "import time\n",
        "t = time.time()\n",
        "\n",
        "gen = TS_generator(nb_timeseries=2000, chunk_size=100) #default values but just for the syntax\n",
        "X = gen.get_list_of_df()\n",
        "\n",
        "print(\"Time to generate 2000 random timeseries:\", round(time.time()-t), 'sec')"
      ],
      "execution_count": 4,
      "outputs": [
        {
          "output_type": "stream",
          "text": [
            "Time to generate 2000 random timeseries: 15 sec\n"
          ],
          "name": "stdout"
        }
      ]
    },
    {
      "cell_type": "code",
      "metadata": {
        "id": "XgjKHmNhupEw",
        "outputId": "0d4f1174-9b6a-432c-ccfc-ebe000dac35f",
        "colab": {
          "base_uri": "https://localhost:8080/",
          "height": 204
        }
      },
      "source": [
        "X[0].head()"
      ],
      "execution_count": 5,
      "outputs": [
        {
          "output_type": "execute_result",
          "data": {
            "text/html": [
              "<div>\n",
              "<style scoped>\n",
              "    .dataframe tbody tr th:only-of-type {\n",
              "        vertical-align: middle;\n",
              "    }\n",
              "\n",
              "    .dataframe tbody tr th {\n",
              "        vertical-align: top;\n",
              "    }\n",
              "\n",
              "    .dataframe thead th {\n",
              "        text-align: right;\n",
              "    }\n",
              "</style>\n",
              "<table border=\"1\" class=\"dataframe\">\n",
              "  <thead>\n",
              "    <tr style=\"text-align: right;\">\n",
              "      <th></th>\n",
              "      <th>Date</th>\n",
              "      <th>Adj Close</th>\n",
              "      <th>Volume</th>\n",
              "      <th>Symbol</th>\n",
              "    </tr>\n",
              "  </thead>\n",
              "  <tbody>\n",
              "    <tr>\n",
              "      <th>2721</th>\n",
              "      <td>2010-09-15</td>\n",
              "      <td>24.881317</td>\n",
              "      <td>827600.0</td>\n",
              "      <td>FMC</td>\n",
              "    </tr>\n",
              "    <tr>\n",
              "      <th>2722</th>\n",
              "      <td>2010-09-16</td>\n",
              "      <td>24.986265</td>\n",
              "      <td>663200.0</td>\n",
              "      <td>FMC</td>\n",
              "    </tr>\n",
              "    <tr>\n",
              "      <th>2723</th>\n",
              "      <td>2010-09-17</td>\n",
              "      <td>25.248648</td>\n",
              "      <td>1282100.0</td>\n",
              "      <td>FMC</td>\n",
              "    </tr>\n",
              "    <tr>\n",
              "      <th>2724</th>\n",
              "      <td>2010-09-20</td>\n",
              "      <td>25.675949</td>\n",
              "      <td>1072900.0</td>\n",
              "      <td>FMC</td>\n",
              "    </tr>\n",
              "    <tr>\n",
              "      <th>2725</th>\n",
              "      <td>2010-09-21</td>\n",
              "      <td>25.649714</td>\n",
              "      <td>2229400.0</td>\n",
              "      <td>FMC</td>\n",
              "    </tr>\n",
              "  </tbody>\n",
              "</table>\n",
              "</div>"
            ],
            "text/plain": [
              "            Date  Adj Close     Volume Symbol\n",
              "2721  2010-09-15  24.881317   827600.0    FMC\n",
              "2722  2010-09-16  24.986265   663200.0    FMC\n",
              "2723  2010-09-17  25.248648  1282100.0    FMC\n",
              "2724  2010-09-20  25.675949  1072900.0    FMC\n",
              "2725  2010-09-21  25.649714  2229400.0    FMC"
            ]
          },
          "metadata": {
            "tags": []
          },
          "execution_count": 5
        }
      ]
    },
    {
      "cell_type": "code",
      "metadata": {
        "id": "63-SyBr7BvJz",
        "outputId": "a3b366e1-6087-4e06-b7ce-1464105624da",
        "colab": {
          "base_uri": "https://localhost:8080/",
          "height": 34
        }
      },
      "source": [
        "#Array version\n",
        "X = gen.get_array()\n",
        "X.shape"
      ],
      "execution_count": 6,
      "outputs": [
        {
          "output_type": "execute_result",
          "data": {
            "text/plain": [
              "(2000, 100)"
            ]
          },
          "metadata": {
            "tags": []
          },
          "execution_count": 6
        }
      ]
    },
    {
      "cell_type": "code",
      "metadata": {
        "id": "tSPngLS_44LW",
        "outputId": "0141eb40-0a5b-48e9-9a9d-af6f19288454",
        "colab": {
          "base_uri": "https://localhost:8080/",
          "height": 34
        }
      },
      "source": [
        "X[0,:5]"
      ],
      "execution_count": 7,
      "outputs": [
        {
          "output_type": "execute_result",
          "data": {
            "text/plain": [
              "array([24.88131714, 24.98626518, 25.24864769, 25.6759491 , 25.64971352])"
            ]
          },
          "metadata": {
            "tags": []
          },
          "execution_count": 7
        }
      ]
    },
    {
      "cell_type": "code",
      "metadata": {
        "id": "PDYMp-MU2R6B",
        "outputId": "b111afb3-140b-4a62-8769-f5e2bebfcd18",
        "colab": {
          "base_uri": "https://localhost:8080/",
          "height": 34
        }
      },
      "source": [
        "#50 most recent prices\n",
        "X[:,50:].shape"
      ],
      "execution_count": 8,
      "outputs": [
        {
          "output_type": "execute_result",
          "data": {
            "text/plain": [
              "(2000, 50)"
            ]
          },
          "metadata": {
            "tags": []
          },
          "execution_count": 8
        }
      ]
    },
    {
      "cell_type": "code",
      "metadata": {
        "id": "G9atakgo4wUf"
      },
      "source": [
        ""
      ],
      "execution_count": null,
      "outputs": []
    }
  ]
}