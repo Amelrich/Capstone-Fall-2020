{
 "cells": [
  {
   "cell_type": "markdown",
   "metadata": {
    "id": "eRxOGCAOvnva"
   },
   "source": [
    "# **Time Series Generator**\n",
    "\n",
    "This script will make you able to generate a chosen number of time series of random stocks at random period of time.\n"
   ]
  },
  {
   "cell_type": "code",
   "execution_count": 1,
   "metadata": {
    "id": "nyVZUmpCkYDR"
   },
   "outputs": [],
   "source": [
    "import numpy as np\n",
    "import numpy.random as rd\n",
    "import pandas as pd"
   ]
  },
  {
   "cell_type": "markdown",
   "metadata": {
    "id": "BCbskjK4vTki"
   },
   "source": [
    "For Colab, it downloads the data using the following code. \n",
    "\n",
    "If you work locally be sure to have the folder *data/*. You can download it from the repo."
   ]
  },
  {
   "cell_type": "code",
   "execution_count": 2,
   "metadata": {
    "id": "8e6_qZp3jg8t"
   },
   "outputs": [],
   "source": [
    "try:\n",
    "  from google.colab import files\n",
    "  !wget -q https://github.com/Amelrich/Capstone-Fall-2020/archive/master.zip\n",
    "  !unzip -q master.zip\n",
    "  !mv Capstone-Fall-2020-master/data/ data/\n",
    "  !rm -rf master.zip Capstone-Fall-2020-master/\n",
    "except:\n",
    "  print(\"only in Colab\")"
   ]
  },
  {
   "cell_type": "markdown",
   "metadata": {
    "id": "1PkfCqIhvzcO"
   },
   "source": [
    "## The generator\n",
    "\n",
    "It generates random timeseries picked from random stocks at random times.\n",
    "\n",
    "Currently you can access to the generated time series using the method `get_list_of_df` (see example below). Next improvements will allow to choose a wider range of structures like arrays etc.\n",
    "\n"
   ]
  },
  {
   "cell_type": "code",
   "execution_count": 10,
   "metadata": {
    "id": "9t7JHidglgj5"
   },
   "outputs": [],
   "source": [
    "class TS_generator:\n",
    "  def __init__(self, nb_timeseries=2000, chunk_size=100):\n",
    "    \n",
    "    self.chunk_size = chunk_size\n",
    "    self.nb_timeseries = nb_timeseries\n",
    "\n",
    "    #Retrieve the stocks names\n",
    "    self.symbols = pd.read_csv('https://raw.githubusercontent.com/Amelrich/Capstone-Fall-2020/master/sp500.csv', index_col=False)\n",
    "    self.symbols = list(self.symbols['Symbol'].values)\n",
    "    self.symbols = ['BF-B' if x=='BF.B' else x for x in self.symbols]\n",
    "    self.symbols = ['BRK-B' if x=='BRK.B' else x for x in self.symbols]\n",
    "\n",
    "    self.list_df = []\n",
    "\n",
    "    #Build the random time series\n",
    "    self.build_()\n",
    "\n",
    "  def build_(self):    \n",
    "    for _ in range(self.nb_timeseries):\n",
    "\n",
    "      #Pick a random stock\n",
    "      stock = self.symbols[rd.randint(len(self.symbols))]\n",
    "      TS = pd.read_csv('data/'+stock+'.csv')\n",
    "      \n",
    "      #Pick a random starting point\n",
    "      timemax = len(TS) - self.chunk_size\n",
    "      start = rd.randint(timemax)\n",
    "      stock_df = TS[start : start+self.chunk_size]\n",
    "\n",
    "      self.list_df.append( stock_df )\n",
    "\n",
    "  def get_list_of_df(self):\n",
    "    #\n",
    "    return self.list_df\n",
    "\n",
    "  def get_array(self):\n",
    "    #Return adjusted close array\n",
    "    close_array = np.zeros((self.nb_timeseries, self.chunk_size))\n",
    "\n",
    "    for i in range(self.nb_timeseries):\n",
    "      close_array[i,:] = self.list_df[i]['Adj Close'].to_numpy()\n",
    "\n",
    "    return close_array"
   ]
  },
  {
   "cell_type": "markdown",
   "metadata": {
    "id": "d8yt85Fct5re"
   },
   "source": [
    "# Example"
   ]
  },
  {
   "cell_type": "code",
   "execution_count": 11,
   "metadata": {
    "colab": {
     "base_uri": "https://localhost:8080/",
     "height": 34
    },
    "id": "yDscSoqRrloF",
    "outputId": "955d95a4-d4fe-4441-8026-2b9b36c84d63"
   },
   "outputs": [
    {
     "name": "stdout",
     "output_type": "stream",
     "text": [
      "Time to generate 100 random timeseries: 73 sec\n"
     ]
    }
   ],
   "source": [
    "import time\n",
    "t = time.time()\n",
    "\n",
    "nb_timeseries = 1000\n",
    "\n",
    "gen = TS_generator(nb_timeseries=nb_timeseries, chunk_size=100) #default values but just for the syntax\n",
    "X = gen.get_list_of_df()\n",
    "\n",
    "print(\"Time to generate\", str(nb_timeseries),\"random timeseries:\", round(time.time()-t), 'sec')"
   ]
  },
  {
   "cell_type": "code",
   "execution_count": 12,
   "metadata": {
    "colab": {
     "base_uri": "https://localhost:8080/",
     "height": 204
    },
    "id": "XgjKHmNhupEw",
    "outputId": "5ccb1366-b262-45e3-9f55-047e4ac40668"
   },
   "outputs": [
    {
     "data": {
      "text/html": [
       "<div>\n",
       "<style scoped>\n",
       "    .dataframe tbody tr th:only-of-type {\n",
       "        vertical-align: middle;\n",
       "    }\n",
       "\n",
       "    .dataframe tbody tr th {\n",
       "        vertical-align: top;\n",
       "    }\n",
       "\n",
       "    .dataframe thead th {\n",
       "        text-align: right;\n",
       "    }\n",
       "</style>\n",
       "<table border=\"1\" class=\"dataframe\">\n",
       "  <thead>\n",
       "    <tr style=\"text-align: right;\">\n",
       "      <th></th>\n",
       "      <th>Date</th>\n",
       "      <th>Adj Close</th>\n",
       "      <th>Volume</th>\n",
       "      <th>Symbol</th>\n",
       "    </tr>\n",
       "  </thead>\n",
       "  <tbody>\n",
       "    <tr>\n",
       "      <th>1689</th>\n",
       "      <td>2006-08-09</td>\n",
       "      <td>39.811985</td>\n",
       "      <td>1439300.0</td>\n",
       "      <td>SYK</td>\n",
       "    </tr>\n",
       "    <tr>\n",
       "      <th>1690</th>\n",
       "      <td>2006-08-10</td>\n",
       "      <td>39.727592</td>\n",
       "      <td>1496300.0</td>\n",
       "      <td>SYK</td>\n",
       "    </tr>\n",
       "    <tr>\n",
       "      <th>1691</th>\n",
       "      <td>2006-08-11</td>\n",
       "      <td>39.314022</td>\n",
       "      <td>701100.0</td>\n",
       "      <td>SYK</td>\n",
       "    </tr>\n",
       "    <tr>\n",
       "      <th>1692</th>\n",
       "      <td>2006-08-14</td>\n",
       "      <td>39.229622</td>\n",
       "      <td>840300.0</td>\n",
       "      <td>SYK</td>\n",
       "    </tr>\n",
       "    <tr>\n",
       "      <th>1693</th>\n",
       "      <td>2006-08-15</td>\n",
       "      <td>39.508156</td>\n",
       "      <td>732400.0</td>\n",
       "      <td>SYK</td>\n",
       "    </tr>\n",
       "  </tbody>\n",
       "</table>\n",
       "</div>"
      ],
      "text/plain": [
       "            Date  Adj Close     Volume Symbol\n",
       "1689  2006-08-09  39.811985  1439300.0    SYK\n",
       "1690  2006-08-10  39.727592  1496300.0    SYK\n",
       "1691  2006-08-11  39.314022   701100.0    SYK\n",
       "1692  2006-08-14  39.229622   840300.0    SYK\n",
       "1693  2006-08-15  39.508156   732400.0    SYK"
      ]
     },
     "execution_count": 12,
     "metadata": {},
     "output_type": "execute_result"
    }
   ],
   "source": [
    "X[0].head()"
   ]
  },
  {
   "cell_type": "code",
   "execution_count": 13,
   "metadata": {
    "colab": {
     "base_uri": "https://localhost:8080/",
     "height": 34
    },
    "id": "63-SyBr7BvJz",
    "outputId": "1f122321-de5d-4f91-c4d9-90ffb79009eb"
   },
   "outputs": [
    {
     "data": {
      "text/plain": [
       "(1000, 100)"
      ]
     },
     "execution_count": 13,
     "metadata": {},
     "output_type": "execute_result"
    }
   ],
   "source": [
    "#Array version\n",
    "X = gen.get_array()\n",
    "X.shape"
   ]
  },
  {
   "cell_type": "code",
   "execution_count": 6,
   "metadata": {
    "colab": {
     "base_uri": "https://localhost:8080/",
     "height": 51
    },
    "id": "tSPngLS_44LW",
    "outputId": "00fff32f-3699-4b9c-ff14-e58f8d7274a3"
   },
   "outputs": [
    {
     "data": {
      "text/plain": [
       "array([11.47543049, 11.60728264, 11.61198807, 11.54606533, 11.428339  ])"
      ]
     },
     "execution_count": 6,
     "metadata": {},
     "output_type": "execute_result"
    }
   ],
   "source": [
    "X[0,:5]"
   ]
  },
  {
   "cell_type": "code",
   "execution_count": 7,
   "metadata": {
    "colab": {
     "base_uri": "https://localhost:8080/",
     "height": 34
    },
    "id": "PDYMp-MU2R6B",
    "outputId": "cea3b380-c8ab-4ea9-c9a1-c42e5a827c1e"
   },
   "outputs": [
    {
     "data": {
      "text/plain": [
       "(100, 50)"
      ]
     },
     "execution_count": 7,
     "metadata": {},
     "output_type": "execute_result"
    }
   ],
   "source": [
    "#50 most recent prices\n",
    "X[:,50:].shape"
   ]
  },
  {
   "cell_type": "code",
   "execution_count": 8,
   "metadata": {
    "id": "G9atakgo4wUf"
   },
   "outputs": [],
   "source": [
    "import pickle\n",
    "\n",
    "def save_obj(obj, name ):\n",
    "    with open(name + '.pkl', 'wb') as f:\n",
    "        pickle.dump(obj, f, pickle.HIGHEST_PROTOCOL)\n",
    "\n",
    "def load_obj(name ):\n",
    "    with open(name + '.pkl', 'rb') as f:\n",
    "        return pickle.load(f)"
   ]
  },
  {
   "cell_type": "code",
   "execution_count": 14,
   "metadata": {},
   "outputs": [],
   "source": [
    "save_obj(X, 'train_data')"
   ]
  },
  {
   "cell_type": "code",
   "execution_count": null,
   "metadata": {},
   "outputs": [],
   "source": []
  }
 ],
 "metadata": {
  "colab": {
   "collapsed_sections": [],
   "name": "Time series generator.ipynb",
   "provenance": []
  },
  "kernelspec": {
   "display_name": "Python 3",
   "language": "python",
   "name": "python3"
  },
  "language_info": {
   "codemirror_mode": {
    "name": "ipython",
    "version": 3
   },
   "file_extension": ".py",
   "mimetype": "text/x-python",
   "name": "python",
   "nbconvert_exporter": "python",
   "pygments_lexer": "ipython3",
   "version": "3.6.10"
  }
 },
 "nbformat": 4,
 "nbformat_minor": 1
}
