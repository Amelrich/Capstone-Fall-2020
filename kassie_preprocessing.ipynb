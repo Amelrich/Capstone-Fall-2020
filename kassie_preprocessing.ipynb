{
  "nbformat": 4,
  "nbformat_minor": 0,
  "metadata": {
    "kernelspec": {
      "display_name": "Python 3",
      "language": "python",
      "name": "python3"
    },
    "language_info": {
      "codemirror_mode": {
        "name": "ipython",
        "version": 3
      },
      "file_extension": ".py",
      "mimetype": "text/x-python",
      "name": "python",
      "nbconvert_exporter": "python",
      "pygments_lexer": "ipython3",
      "version": "3.6.10"
    },
    "colab": {
      "name": "kassie_preprocessing.ipynb",
      "provenance": [],
      "collapsed_sections": [],
      "include_colab_link": true
    }
  },
  "cells": [
    {
      "cell_type": "markdown",
      "metadata": {
        "id": "view-in-github",
        "colab_type": "text"
      },
      "source": [
        "<a href=\"https://colab.research.google.com/github/Amelrich/Capstone-Fall-2020/blob/kassie-preprocessing/kassie_preprocessing.ipynb\" target=\"_parent\"><img src=\"https://colab.research.google.com/assets/colab-badge.svg\" alt=\"Open In Colab\"/></a>"
      ]
    },
    {
      "cell_type": "code",
      "metadata": {
        "id": "faTOmY4IQ3BO"
      },
      "source": [
        "import numpy as np\n",
        "import pandas as pd\n",
        "import pandas_datareader.data as web\n",
        "import matplotlib.pyplot as plt\n",
        "import tensorflow as tf"
      ],
      "execution_count": 1,
      "outputs": []
    },
    {
      "cell_type": "code",
      "metadata": {
        "id": "UwkiiSn4vQ0u",
        "outputId": "55c16802-ae5c-4670-a5e0-072e32aaaf2a",
        "colab": {
          "base_uri": "https://localhost:8080/",
          "height": 51
        }
      },
      "source": [
        "!pip install pandas_market_calendars"
      ],
      "execution_count": 2,
      "outputs": [
        {
          "output_type": "stream",
          "text": [
            "Installing collected packages: trading-calendars, pandas-market-calendars\n",
            "Successfully installed pandas-market-calendars-1.6.0 trading-calendars-1.11.11\n"
          ],
          "name": "stdout"
        }
      ]
    },
    {
      "cell_type": "code",
      "metadata": {
        "id": "DUlVSZ14GiUU"
      },
      "source": [
        "import pandas_market_calendars as mcal"
      ],
      "execution_count": 3,
      "outputs": []
    },
    {
      "cell_type": "code",
      "metadata": {
        "id": "rJQjD0txQ3BY"
      },
      "source": [
        "# Start and End date of stock data\n",
        "start_date = pd.to_datetime('1999-11-18')\n",
        "end_date   = pd.to_datetime('2020-09-02')"
      ],
      "execution_count": 4,
      "outputs": []
    },
    {
      "cell_type": "code",
      "metadata": {
        "id": "3t7bJ0BASzzJ"
      },
      "source": [
        "# Read names of Stocks we are interested in\n",
        "symbols = pd.read_csv('https://raw.githubusercontent.com/Amelrich/Capstone-Fall-2020/kassie-preprocessing/sp500.csv',index_col=False)\n",
        "symbols = list(symbols['Symbol'].values)\n",
        "symbols = sorted(symbols)"
      ],
      "execution_count": 6,
      "outputs": []
    },
    {
      "cell_type": "code",
      "metadata": {
        "id": "7SLbplXPvFFh"
      },
      "source": [
        "symbols = ['BF-B' if x=='BF.B' else x for x in symbols]\n",
        "symbols = ['BRK-B' if x=='BRK.B' else x for x in symbols]"
      ],
      "execution_count": 8,
      "outputs": []
    },
    {
      "cell_type": "markdown",
      "metadata": {
        "id": "AyIiR8qPthRA"
      },
      "source": [
        "###Set start & end date and find the trading days between them\n",
        "From the `pandas_market_calendars` package, find all the trading dates given a specific range of dates"
      ]
    },
    {
      "cell_type": "code",
      "metadata": {
        "id": "1PxgHLXomkeB"
      },
      "source": [
        "# get trading days calendar\n",
        "def create_market_cal(start, end):\n",
        "    nyse = mcal.get_calendar('NYSE')\n",
        "    schedule = nyse.schedule(start, end)\n",
        "    market_cal = mcal.date_range(schedule, frequency='1D')\n",
        "    market_cal = market_cal.tz_localize(None)\n",
        "    market_cal = [i.replace(hour=0) for i in market_cal]\n",
        "    return market_cal \n",
        "\n",
        "\n",
        "# Start and End date of stock data\n",
        "start_date = pd.to_datetime('1999-11-18')\n",
        "end_date   = pd.to_datetime('2020-09-02')\n",
        "\n",
        "# Create a calendar\n",
        "calendar = create_market_cal(start_date, end_date)\n",
        "\n"
      ],
      "execution_count": 9,
      "outputs": []
    },
    {
      "cell_type": "markdown",
      "metadata": {
        "id": "B3K1_8nMIOp2"
      },
      "source": [
        "### Split the calendar dates in chunks of length 150\n",
        "We do this because we are interested in data points that capture multiple time scales. We want to capture a stocks behavior over 50 & 100 & 150 days, and have all of this information in one data point that has a fixed length of 50."
      ]
    },
    {
      "cell_type": "code",
      "metadata": {
        "id": "LmqG9fLpILNG",
        "outputId": "73996243-4184-477d-c0ce-06662dbe7fdc",
        "colab": {
          "base_uri": "https://localhost:8080/",
          "height": 34
        }
      },
      "source": [
        "# divide the calendar in 150 day chunks\n",
        "def divide_chunks(l, n): \n",
        "      \n",
        "    # looping till length l \n",
        "    for i in range(0, len(l), n):  \n",
        "        yield l[i:i + n] \n",
        "\n",
        "# split trading days from start to end date in 50 day chunks\n",
        "n = 150\n",
        "list_of_date_chunk = list(divide_chunks(calendar, n)) \n",
        "\n",
        "# we skip the last date chunk bc it is not 150 days long\n",
        "list_of_date_chunk = list_of_date_chunk[:-1]\n",
        "len(list_of_date_chunk[-1])"
      ],
      "execution_count": 11,
      "outputs": [
        {
          "output_type": "execute_result",
          "data": {
            "text/plain": [
              "150"
            ]
          },
          "metadata": {
            "tags": []
          },
          "execution_count": 11
        }
      ]
    },
    {
      "cell_type": "markdown",
      "metadata": {
        "id": "mVozYUe0JK-Z"
      },
      "source": [
        "### How we achieve multiscale data points\n",
        "\n",
        "If you look at the fuction ```get_multiscale_values``` bellow, we notice that we want to extract infromation from a specific time window. \n",
        "* In order to capture the scale of price of 50 days we can just do `df_start_end[0:50]` and capture the first 50 consecutive days.\n",
        "\n",
        "\n",
        "* In order to capture the timescale of 100 days we `df_start_end[0:100:2]`, thus each time we skip a value in between and are able to capture 100 days prices. We still have a length of 50.\n",
        "\n",
        "Similarly for 150 days.\n",
        "\n"
      ]
    },
    {
      "cell_type": "code",
      "metadata": {
        "id": "8FjOP1kBRwxw",
        "outputId": "873f7323-f636-4aa4-e833-a4221b964190",
        "colab": {
          "base_uri": "https://localhost:8080/",
          "height": 102
        }
      },
      "source": [
        "def get_multiscale_values(df_start_end):\n",
        "  days_50 = df_start_end[-50:]\n",
        "  days_100 = df_start_end[-100::2]\n",
        "  days_150 = df_start_end[-150::3]\n",
        "  return days_50, days_100, days_150\n",
        "  \n",
        "def scrape_yahoo(stock_name, start_date, end_date):\n",
        "  # scrape data of each stock from yahoo\n",
        "  try:\n",
        "    df = web.DataReader(stock_name,'yahoo', start_date, end_date)\n",
        "    df = df[['Adj Close','Volume']]\n",
        "    df['Symbol'] =  stock_name\n",
        "    find_flag = 1\n",
        "    return df, find_flag\n",
        "  except KeyError:\n",
        "    print(\"Could not find data on \".format(stock_name))\n",
        "    find_flag = 0\n",
        "    return pd.DataFrame(), find_flag\n",
        "\n",
        "total_prices_list = []\n",
        "total_labels_list = []\n",
        "n = 0\n",
        "for stock_name in symbols:\n",
        "  n = n + 1\n",
        "  if n%100 == 0:\n",
        "    print(\"{} stocksout of {} completed\".format(n,len(symbols)))\n",
        "  stock_df, find_flag = scrape_yahoo(stock_name, start_date, end_date)\n",
        "  \n",
        "  if find_flag == 0:\n",
        "    print(\"Could not find data on {}\".format(stock_name))\n",
        "    continue\n",
        "\n",
        "  tf_prices_list = []\n",
        "  tf_stock_name_list = []\n",
        "\n",
        "  for item in list_of_date_chunk:\n",
        "    start = item[0]\n",
        "    end = item[-1]\n",
        "    \n",
        "    df_start_end = stock_df.loc[start:end]\n",
        "    if len(df_start_end) >= 150:\n",
        "      days_50, days_100, days_150 = get_multiscale_values(df_start_end)\n",
        "    else:\n",
        "      continue\n",
        "  \n",
        "    dictionary = {'50_days': days_50['Adj Close'].values, '100_days': days_100['Adj Close'].values,\n",
        "        '150_days': days_150['Adj Close'].values}\n",
        "    \n",
        "    datapoint = pd.DataFrame(dictionary)\n",
        "    \n",
        "    # create a tensor from those values, both prices and the stock name and add them in a list\n",
        "    price_tensor = tf.convert_to_tensor(datapoint)\n",
        "    stock_name_tensor = tf.convert_to_tensor(stock_name)\n",
        "    tf_prices_list.append(price_tensor)\n",
        "    tf_stock_name_list.append(stock_name_tensor)\n",
        "  \n",
        "  total_prices_list.append(tf_prices_list)\n",
        "  total_labels_list.append(tf_stock_name_list)\n",
        "  #print('Stock {} is done'.format(stock_name))"
      ],
      "execution_count": 19,
      "outputs": [
        {
          "output_type": "stream",
          "text": [
            "100 stocksout of 505 completed\n",
            "200 stocksout of 505 completed\n",
            "300 stocksout of 505 completed\n",
            "400 stocksout of 505 completed\n",
            "500 stocksout of 505 completed\n"
          ],
          "name": "stdout"
        }
      ]
    },
    {
      "cell_type": "code",
      "metadata": {
        "id": "E9ZiySh6F8-4"
      },
      "source": [
        "# we flatten the above total lists that contain all prices for all stocks in S&P\n",
        "flattened_list_prices = [y for x in total_prices_list for y in x]\n",
        "flattened_list_stock_names = [y for x in total_labels_list for y in x]"
      ],
      "execution_count": 20,
      "outputs": []
    },
    {
      "cell_type": "code",
      "metadata": {
        "id": "X2kw8-jNGQQt",
        "outputId": "e34b54b4-95e4-4313-9851-4ebb3716d200",
        "colab": {
          "base_uri": "https://localhost:8080/",
          "height": 34
        }
      },
      "source": [
        "prices_ds =tf.data.Dataset.from_tensor_slices(tf.stack(flattened_list_prices))\n",
        "names_ds =tf.data.Dataset.from_tensor_slices(tf.stack(flattened_list_stock_names))\n",
        "# we create a data set with the labels and the prices\n",
        "prices_names_ds = tf.data.Dataset.zip((prices_ds, names_ds))\n",
        "print(prices_names_ds)"
      ],
      "execution_count": 21,
      "outputs": [
        {
          "output_type": "stream",
          "text": [
            "<ZipDataset shapes: ((50, 3), ()), types: (tf.float64, tf.string)>\n"
          ],
          "name": "stdout"
        }
      ]
    },
    {
      "cell_type": "code",
      "metadata": {
        "id": "qqjM-EFbHNgd",
        "outputId": "4eae34a3-68e5-4226-faac-670ff5af008a",
        "colab": {
          "base_uri": "https://localhost:8080/",
          "height": 51
        }
      },
      "source": [
        "for price, label in prices_names_ds.take(2):\n",
        "  print(price.shape, label)"
      ],
      "execution_count": 22,
      "outputs": [
        {
          "output_type": "stream",
          "text": [
            "(50, 3) tf.Tensor(b'A', shape=(), dtype=string)\n",
            "(50, 3) tf.Tensor(b'A', shape=(), dtype=string)\n"
          ],
          "name": "stdout"
        }
      ]
    },
    {
      "cell_type": "code",
      "metadata": {
        "id": "jCVvT_LEzNNd",
        "outputId": "82f11b97-fa3d-49e8-ef5a-0721b165bec8",
        "colab": {
          "base_uri": "https://localhost:8080/",
          "height": 299
        }
      },
      "source": [
        "import matplotlib.pyplot as plt\n",
        "\n",
        "plt.figure(); datapoint.plot(); plt.legend(loc='best')"
      ],
      "execution_count": 23,
      "outputs": [
        {
          "output_type": "execute_result",
          "data": {
            "text/plain": [
              "<matplotlib.legend.Legend at 0x7f644159b5c0>"
            ]
          },
          "metadata": {
            "tags": []
          },
          "execution_count": 23
        },
        {
          "output_type": "display_data",
          "data": {
            "text/plain": [
              "<Figure size 432x288 with 0 Axes>"
            ]
          },
          "metadata": {
            "tags": []
          }
        },
        {
          "output_type": "display_data",
          "data": {
            "image/png": "[encoded data removed]",
            "text/plain": [
              "<Figure size 432x288 with 1 Axes>"
            ]
          },
          "metadata": {
            "tags": [],
            "needs_background": "light"
          }
        }
      ]
    }
  ]
}