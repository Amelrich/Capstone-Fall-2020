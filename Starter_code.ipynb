{
  "nbformat": 4,
  "nbformat_minor": 0,
  "metadata": {
    "colab": {
      "name": "Starter_code.ipynb",
      "provenance": [],
      "collapsed_sections": []
    },
    "kernelspec": {
      "name": "python3",
      "display_name": "Python 3"
    }
  },
  "cells": [
    {
      "cell_type": "markdown",
      "metadata": {
        "id": "BCbskjK4vTki"
      },
      "source": [
        "# Starter code\n",
        "\n",
        "For Colab, it downloads the data using the following code. \n",
        "\n",
        "If you work locally be sure to have the folder *data/* and the python file TS_utils. You can download it from the repo."
      ]
    },
    {
      "cell_type": "code",
      "metadata": {
        "id": "8e6_qZp3jg8t"
      },
      "source": [
        "try:\n",
        "  from google.colab import files\n",
        "  !wget -q https://github.com/Amelrich/Capstone-Fall-2020/archive/master.zip\n",
        "  !unzip -q master.zip\n",
        "  !rm -rf data\n",
        "  !mv Capstone-Fall-2020-master/data/ data/\n",
        "  !mv Capstone-Fall-2020-master/TS_utils.py /content/\n",
        "  !rm -rf master.zip Capstone-Fall-2020-master/\n",
        "except:\n",
        "  print(\"only in Colab\")"
      ],
      "execution_count": null,
      "outputs": []
    },
    {
      "cell_type": "code",
      "metadata": {
        "id": "gPGTRcWuKqw-"
      },
      "source": [
        "import numpy as np\n",
        "import numpy.random as rd\n",
        "import pandas as pd\n",
        "import matplotlib.pyplot as plt\n",
        "\n",
        "from TS_utils import TS_generator\n",
        "from TS_utils import MedianScaler, DCT_lowpass_filter\n",
        "from TS_utils import KMedians"
      ],
      "execution_count": null,
      "outputs": []
    },
    {
      "cell_type": "markdown",
      "metadata": {
        "id": "1eNUlyDYmI13"
      },
      "source": [
        "## Generate and Preprocess\n"
      ]
    },
    {
      "cell_type": "code",
      "metadata": {
        "id": "AcnGNIq_PEmQ"
      },
      "source": [
        "from sklearn.preprocessing import MinMaxScaler, StandardScaler"
      ],
      "execution_count": null,
      "outputs": []
    },
    {
      "cell_type": "code",
      "metadata": {
        "id": "OGJESv_yFo33",
        "outputId": "d86b3def-7b44-48dd-c006-0e4fa885e219",
        "colab": {
          "base_uri": "https://localhost:8080/"
        }
      },
      "source": [
        "n_ts = 1000\n",
        "\n",
        "#Generate data\n",
        "gen = TS_generator(nb_timeseries=2*n_ts, chunk_size=60)\n",
        "X = gen.get_array()\n",
        "\n",
        "#Scaling\n",
        "lowpass_filter = DCT_lowpass_filter()\n",
        "scaler = StandardScaler()\n",
        "#scaler = MinMaxScaler()\n",
        "#scaler = MedianScaler()\n",
        "\n",
        "Xdct = lowpass_filter.fit_transform(X)\n",
        "Xscale = scaler.fit_transform(Xdct.T).T\n",
        "\n",
        "#Train/validation\n",
        "X_train, X_val = Xscale[:n_ts,:], Xscale[n_ts:,:]\n",
        "X_val_mm = (MinMaxScaler().fit_transform(Xdct.T).T)[n_ts:,:]\n",
        "X_train.shape"
      ],
      "execution_count": null,
      "outputs": [
        {
          "output_type": "execute_result",
          "data": {
            "text/plain": [
              "(1000, 60)"
            ]
          },
          "metadata": {
            "tags": []
          },
          "execution_count": 62
        }
      ]
    }
  ]
}