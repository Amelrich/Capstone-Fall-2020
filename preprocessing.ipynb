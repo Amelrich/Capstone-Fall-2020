{
  "nbformat": 4,
  "nbformat_minor": 0,
  "metadata": {
    "kernelspec": {
      "display_name": "Python 3",
      "language": "python",
      "name": "python3"
    },
    "language_info": {
      "codemirror_mode": {
        "name": "ipython",
        "version": 3
      },
      "file_extension": ".py",
      "mimetype": "text/x-python",
      "name": "python",
      "nbconvert_exporter": "python",
      "pygments_lexer": "ipython3",
      "version": "3.6.10"
    },
    "colab": {
      "name": "kassie_preprocessing.ipynb",
      "provenance": [],
      "collapsed_sections": [],
      "toc_visible": true,
      "include_colab_link": true
    }
  },
  "cells": [
    {
      "cell_type": "markdown",
      "metadata": {
        "id": "view-in-github",
        "colab_type": "text"
      },
      "source": [
        "<a href=\"https://colab.research.google.com/github/Amelrich/Capstone-Fall-2020/blob/kassie-preprocessing/preprocessing.ipynb\" target=\"_parent\"><img src=\"https://colab.research.google.com/assets/colab-badge.svg\" alt=\"Open In Colab\"/></a>"
      ]
    },
    {
      "cell_type": "code",
      "metadata": {
        "id": "faTOmY4IQ3BO"
      },
      "source": [
        "import numpy as np\n",
        "import pandas as pd\n",
        "import pandas_datareader.data as web\n",
        "import matplotlib.pyplot as plt\n",
        "import tensorflow as tf"
      ],
      "execution_count": 1,
      "outputs": []
    },
    {
      "cell_type": "code",
      "metadata": {
        "id": "jspyxLEVFL7j",
        "outputId": "5e532bad-40e5-40ac-abda-0e210285a61b",
        "colab": {
          "base_uri": "https://localhost:8080/",
          "height": 54
        }
      },
      "source": [
        "from google.colab import drive\n",
        "drive.mount('/content/drive')"
      ],
      "execution_count": 2,
      "outputs": [
        {
          "output_type": "stream",
          "text": [
            "Drive already mounted at /content/drive; to attempt to forcibly remount, call drive.mount(\"/content/drive\", force_remount=True).\n"
          ],
          "name": "stdout"
        }
      ]
    },
    {
      "cell_type": "markdown",
      "metadata": {
        "id": "QZV8J2ZSgKOB"
      },
      "source": [
        "### Read saved data that was created using Amaurys code by using this\n",
        "`TS_generator(nb_timeseries=4000, chunk_size=60)`"
      ]
    },
    {
      "cell_type": "code",
      "metadata": {
        "id": "uwNl5Dy-FGBu"
      },
      "source": [
        "X = np.load(\"/content/drive/My Drive/capstone/timeseries.npy\")"
      ],
      "execution_count": 3,
      "outputs": []
    },
    {
      "cell_type": "markdown",
      "metadata": {
        "id": "mVozYUe0JK-Z"
      },
      "source": [
        "### How we achieve multiscale data points\n",
        "\n",
        "Two methods\n",
        "\n",
        "* By picking prices every consecutive, alterate and every 2 days \n",
        "\n",
        "* By picking consecutive prices for 50, 100, 150 days.\n",
        "\n",
        "Please see methods `get_multiscale_skipped_values` and `get_multiscale_consecutive_values`\n",
        "\n"
      ]
    },
    {
      "cell_type": "code",
      "metadata": {
        "id": "B-mi3Td6FcBl",
        "outputId": "700d2e2c-f015-4a9c-8427-64c84ef42982",
        "colab": {
          "base_uri": "https://localhost:8080/",
          "height": 85
        }
      },
      "source": [
        "def get_multiscale_skipped_values(df_start_end):\n",
        "  days_60 = df_start_end[-60:]\n",
        "  days_40 = [0 if i % 2 else x for i, x in enumerate(days_60)]\n",
        "  days_20 = [0 if i % 3 else x for i, x in enumerate(days_60)]\n",
        "  dictionary = {'60_days': np.array(days_60), '40_days': np.array(days_40), \n",
        "                '20_days': np.array(days_20)}\n",
        "  return dictionary\n",
        "\n",
        "def get_multiscale_consecutive_values(df_start_end):\n",
        "  days_20 = df_start_end[-20:]\n",
        "  days_40 = df_start_end[-40:]\n",
        "  days_60 = df_start_end[-60:]\n",
        "  \n",
        "  days_20_all = np.append(np.zeros((40)), days_20 ,0)\n",
        "  days_40_all = np.append(np.zeros((20)), days_40,0)\n",
        "  \n",
        "  dictionary = {'20_days': np.array(days_20_all), '40_days': np.array(days_40_all),\n",
        "                    '60_days': days_60}\n",
        "  return dictionary\n",
        "\n",
        "\n",
        "skipped_values = []\n",
        "consecutive_values = []\n",
        "n = 0\n",
        "for df in X:\n",
        "  n = n + 1\n",
        "  if n%1000 == 0:\n",
        "    print(\"{} stocksout of {} completed\".format(n,len(X)))\n",
        "  \n",
        "  dictionary_skipped_values = get_multiscale_skipped_values(df[:,0])\n",
        "  dictionary_consecutive_values = get_multiscale_consecutive_values(df[:,0])\n",
        " \n",
        "  datapoint_skipped_values = pd.DataFrame(dictionary_skipped_values).to_numpy()\n",
        "  datapoint_consecutive_values = pd.DataFrame(dictionary_consecutive_values).to_numpy()\n",
        "\n",
        "\n",
        "  skipped_values.append(datapoint_skipped_values)\n",
        "  consecutive_values.append(datapoint_consecutive_values)\n"
      ],
      "execution_count": 4,
      "outputs": [
        {
          "output_type": "stream",
          "text": [
            "1000 stocksout of 4000 completed\n",
            "2000 stocksout of 4000 completed\n",
            "3000 stocksout of 4000 completed\n",
            "4000 stocksout of 4000 completed\n"
          ],
          "name": "stdout"
        }
      ]
    },
    {
      "cell_type": "code",
      "metadata": {
        "id": "LB8U0Sq6NTz2"
      },
      "source": [
        "np.save(\"/content/drive/My Drive/capstone/skipped_values.npy\", skipped_values)\n",
        "np.save(\"/content/drive/My Drive/capstone/consecutive_values.npy\", consecutive_values)"
      ],
      "execution_count": 5,
      "outputs": []
    }
  ]
}