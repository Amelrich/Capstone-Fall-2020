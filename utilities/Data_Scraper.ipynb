{
 "cells": [
  {
   "cell_type": "markdown",
   "metadata": {
    "id": "SwK42bHAUARx"
   },
   "source": [
    "# **Data Scraper**\n",
    "\n",
    "This notebook will help you to generate a data folder which contains the 500 stocks time series between a start date and an end date you can define. By default they are scrapped between 18 Nov. 1999 and 2 Sep. 2020.\n",
    "\n",
    "This code is mainly inspired from Kassie Papasotiriou and Romane Goldmuntz, special thanks to them.\n",
    "\n",
    "Many other key functions are in the TS_utils.py file, be sure to have a look."
   ]
  },
  {
   "cell_type": "code",
   "execution_count": 1,
   "metadata": {
    "id": "faTOmY4IQ3BO"
   },
   "outputs": [],
   "source": [
    "import numpy as np\n",
    "import numpy.random as rd\n",
    "import pandas as pd\n",
    "import pandas_datareader.data as web"
   ]
  },
  {
   "cell_type": "code",
   "execution_count": 2,
   "metadata": {
    "colab": {
     "base_uri": "https://localhost:8080/",
     "height": 68
    },
    "id": "UwkiiSn4vQ0u",
    "outputId": "270156e7-6f57-4c00-bf77-62b54dcd489d"
   },
   "outputs": [
    {
     "name": "stdout",
     "output_type": "stream",
     "text": [
      "\u001b[K     |████████████████████████████████| 61kB 2.5MB/s \n",
      "\u001b[K     |████████████████████████████████| 112kB 11.2MB/s \n",
      "\u001b[?25h  Building wheel for trading-calendars (setup.py) ... \u001b[?25l\u001b[?25hdone\n"
     ]
    }
   ],
   "source": [
    "try:\n",
    "  import pandas_market_calendars as mcal\n",
    "except:\n",
    "  !pip -q install pandas_market_calendars\n",
    "  import pandas_market_calendars as mcal"
   ]
  },
  {
   "cell_type": "code",
   "execution_count": 3,
   "metadata": {
    "id": "rJQjD0txQ3BY"
   },
   "outputs": [],
   "source": [
    "# Start and End date of stock data\n",
    "start_date = pd.to_datetime('1999-11-18')\n",
    "end_date   = pd.to_datetime('2020-09-02')"
   ]
  },
  {
   "cell_type": "code",
   "execution_count": 4,
   "metadata": {
    "id": "3t7bJ0BASzzJ"
   },
   "outputs": [],
   "source": [
    "# Read names of Stocks we are interested in\n",
    "symbols = pd.read_csv('https://raw.githubusercontent.com/Amelrich/Capstone-Fall-2020/master/sp500.csv', index_col=False)\n",
    "symbols = list(symbols['Symbol'].values)\n",
    "symbols = sorted(symbols)\n",
    "\n",
    "#Correction for Yahoo Finance scrapping\n",
    "symbols = ['BF-B' if x=='BF.B' else x for x in symbols]\n",
    "symbols = ['BRK-B' if x=='BRK.B' else x for x in symbols]"
   ]
  },
  {
   "cell_type": "markdown",
   "metadata": {
    "id": "AyIiR8qPthRA"
   },
   "source": [
    "### Scraping"
   ]
  },
  {
   "cell_type": "code",
   "execution_count": 5,
   "metadata": {
    "id": "HAWjDeHOoNVA"
   },
   "outputs": [],
   "source": [
    "def scrape_yahoo(stock_name, start_date, end_date):\n",
    "  # scrape data of each stock from yahoo\n",
    "  try:\n",
    "    df = web.DataReader(stock_name,'yahoo', start_date, end_date)\n",
    "    df = df[['Adj Close','Volume']]\n",
    "    df['Symbol'] =  stock_name\n",
    "    find_flag = 1\n",
    "    return df, find_flag\n",
    "  except KeyError:\n",
    "    print(\"Could not find data on \".format(stock_name))\n",
    "    find_flag = 0\n",
    "    return pd.DataFrame(), find_flag"
   ]
  },
  {
   "cell_type": "code",
   "execution_count": 6,
   "metadata": {
    "id": "G3gRM4k5PzHM"
   },
   "outputs": [],
   "source": [
    "!rm -rf data/\n",
    "!mkdir data/"
   ]
  },
  {
   "cell_type": "markdown",
   "metadata": {
    "id": "1XgVJjmcxV3p"
   },
   "source": [
    "We scrap every stock and store the values inside a csv file"
   ]
  },
  {
   "cell_type": "code",
   "execution_count": 7,
   "metadata": {
    "colab": {
     "base_uri": "https://localhost:8080/",
     "height": 102
    },
    "id": "aApnxbU4QR6F",
    "outputId": "adb08b27-a741-42c3-b76c-20697c0fd653"
   },
   "outputs": [
    {
     "name": "stdout",
     "output_type": "stream",
     "text": [
      "100 stocksout of 505 completed\n",
      "200 stocksout of 505 completed\n",
      "300 stocksout of 505 completed\n",
      "400 stocksout of 505 completed\n",
      "500 stocksout of 505 completed\n"
     ]
    }
   ],
   "source": [
    "count = 0\n",
    "table = dict()\n",
    "\n",
    "for stock in symbols:\n",
    "  count += 1\n",
    "  if count % 100 == 0:\n",
    "    print(f\"{count} stocksout of {len(symbols)} completed\")\n",
    "\n",
    "  TS = scrape_yahoo(stock, start_date, end_date)[0]\n",
    "  table[stock] = len(TS)\n",
    "  TS.to_csv('data/'+stock+'.csv', header=TS.columns)"
   ]
  },
  {
   "cell_type": "code",
   "execution_count": 34,
   "metadata": {
    "id": "8CwtX3Yaojef"
   },
   "outputs": [],
   "source": [
    "np.save('data/summary.npy', table) "
   ]
  },
  {
   "cell_type": "code",
   "execution_count": null,
   "metadata": {
    "colab": {
     "base_uri": "https://localhost:8080/",
     "height": 17
    },
    "id": "WNlLw353SrSd",
    "outputId": "249ae79f-04a8-4134-be15-f20c108bf246"
   },
   "outputs": [
    {
     "data": {
      "application/javascript": [
       "\n",
       "    async function download(id, filename, size) {\n",
       "      if (!google.colab.kernel.accessAllowed) {\n",
       "        return;\n",
       "      }\n",
       "      const div = document.createElement('div');\n",
       "      const label = document.createElement('label');\n",
       "      label.textContent = `Downloading \"${filename}\": `;\n",
       "      div.appendChild(label);\n",
       "      const progress = document.createElement('progress');\n",
       "      progress.max = size;\n",
       "      div.appendChild(progress);\n",
       "      document.body.appendChild(div);\n",
       "\n",
       "      const buffers = [];\n",
       "      let downloaded = 0;\n",
       "\n",
       "      const channel = await google.colab.kernel.comms.open(id);\n",
       "      // Send a message to notify the kernel that we're ready.\n",
       "      channel.send({})\n",
       "\n",
       "      for await (const message of channel.messages) {\n",
       "        // Send a message to notify the kernel that we're ready.\n",
       "        channel.send({})\n",
       "        if (message.buffers) {\n",
       "          for (const buffer of message.buffers) {\n",
       "            buffers.push(buffer);\n",
       "            downloaded += buffer.byteLength;\n",
       "            progress.value = downloaded;\n",
       "          }\n",
       "        }\n",
       "      }\n",
       "      const blob = new Blob(buffers, {type: 'application/binary'});\n",
       "      const a = document.createElement('a');\n",
       "      a.href = window.URL.createObjectURL(blob);\n",
       "      a.download = filename;\n",
       "      div.appendChild(a);\n",
       "      a.click();\n",
       "      div.remove();\n",
       "    }\n",
       "  "
      ],
      "text/plain": [
       "<IPython.core.display.Javascript object>"
      ]
     },
     "metadata": {
      "tags": []
     },
     "output_type": "display_data"
    },
    {
     "data": {
      "application/javascript": [
       "download(\"download_cc73b1cd-3062-4c34-ae50-0db8fee9110d\", \"data.zip\", 31394121)"
      ],
      "text/plain": [
       "<IPython.core.display.Javascript object>"
      ]
     },
     "metadata": {
      "tags": []
     },
     "output_type": "display_data"
    }
   ],
   "source": [
    "try:\n",
    "    from google.colab import files\n",
    "    !zip -q -r data.zip data/\n",
    "    files.download('data.zip') \n",
    "except:\n",
    "    print(\"only in Colab\")"
   ]
  },
  {
   "cell_type": "code",
   "execution_count": null,
   "metadata": {
    "id": "Vd375hetvbAs"
   },
   "outputs": [],
   "source": []
  }
 ],
 "metadata": {
  "colab": {
   "collapsed_sections": [],
   "name": "Data Scraper.ipynb",
   "provenance": []
  },
  "kernelspec": {
   "display_name": "Python 3",
   "language": "python",
   "name": "python3"
  },
  "language_info": {
   "codemirror_mode": {
    "name": "ipython",
    "version": 3
   },
   "file_extension": ".py",
   "mimetype": "text/x-python",
   "name": "python",
   "nbconvert_exporter": "python",
   "pygments_lexer": "ipython3",
   "version": "3.6.10"
  }
 },
 "nbformat": 4,
 "nbformat_minor": 1
}
