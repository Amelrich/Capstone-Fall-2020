{
  "nbformat": 4,
  "nbformat_minor": 0,
  "metadata": {
    "colab": {
      "name": "conditional_probabilities_PIP_Embed.ipynb",
      "provenance": [],
      "collapsed_sections": [],
      "mount_file_id": "17S_f-ZlggYPZGKyo2yGX0KCGV_UMek5v",
      "authorship_tag": "ABX9TyNDcAKyM8gTwEW/TA9irAMg",
      "include_colab_link": true
    },
    "kernelspec": {
      "name": "python3",
      "display_name": "Python 3"
    }
  },
  "cells": [
    {
      "cell_type": "markdown",
      "metadata": {
        "id": "view-in-github",
        "colab_type": "text"
      },
      "source": [
        "<a href=\"https://colab.research.google.com/github/Amelrich/Capstone-Fall-2020/blob/vy-preprocessing/conditional_probabilities_PIP_Embed.ipynb\" target=\"_parent\"><img src=\"https://colab.research.google.com/assets/colab-badge.svg\" alt=\"Open In Colab\"/></a>"
      ]
    },
    {
      "cell_type": "code",
      "metadata": {
        "id": "Xy0SSWlI3Qvq",
        "colab": {
          "base_uri": "https://localhost:8080/"
        },
        "outputId": "ac545386-f6de-4f36-88ac-38df8fe3e6ee"
      },
      "source": [
        "pip install python-fastpip"
      ],
      "execution_count": 1,
      "outputs": [
        {
          "output_type": "stream",
          "text": [
            "Collecting python-fastpip\n",
            "  Downloading https://files.pythonhosted.org/packages/14/13/66d0aad730bcf07956cbd7a7a4b75c4dd54f64b96b4458f0825898bcff0b/python-fastpip-1.2.tar.gz\n",
            "Building wheels for collected packages: python-fastpip\n",
            "  Building wheel for python-fastpip (setup.py) ... \u001b[?25l\u001b[?25hdone\n",
            "  Created wheel for python-fastpip: filename=python_fastpip-1.2-cp36-none-any.whl size=3818 sha256=8c83116b4024e37dbdc14eb21497154d0e4ebf278523df0b22ed38a33e455df9\n",
            "  Stored in directory: /root/.cache/pip/wheels/88/44/d3/0daeba86e0968e23e1ce93b5b8b7ef9b412b0ce1de027f7853\n",
            "Successfully built python-fastpip\n",
            "Installing collected packages: python-fastpip\n",
            "Successfully installed python-fastpip-1.2\n"
          ],
          "name": "stdout"
        }
      ]
    },
    {
      "cell_type": "code",
      "metadata": {
        "id": "k-aqvgPKiXif",
        "colab": {
          "base_uri": "https://localhost:8080/"
        },
        "outputId": "b9a132c9-f95f-4e71-c689-057554ec1a44"
      },
      "source": [
        "try:\n",
        "  from tslearn.clustering import TimeSeriesKMeans\n",
        "except:\n",
        "  !pip -q install tslearn\n",
        "  from tslearn.clustering import TimeSeriesKMeans"
      ],
      "execution_count": 2,
      "outputs": [
        {
          "output_type": "stream",
          "text": [
            "\u001b[?25l\r\u001b[K     |▍                               | 10kB 20.7MB/s eta 0:00:01\r\u001b[K     |▉                               | 20kB 16.9MB/s eta 0:00:01\r\u001b[K     |█▎                              | 30kB 12.7MB/s eta 0:00:01\r\u001b[K     |█▊                              | 40kB 8.9MB/s eta 0:00:01\r\u001b[K     |██▏                             | 51kB 4.5MB/s eta 0:00:01\r\u001b[K     |██▌                             | 61kB 5.0MB/s eta 0:00:01\r\u001b[K     |███                             | 71kB 5.2MB/s eta 0:00:01\r\u001b[K     |███▍                            | 81kB 5.4MB/s eta 0:00:01\r\u001b[K     |███▉                            | 92kB 5.6MB/s eta 0:00:01\r\u001b[K     |████▎                           | 102kB 5.8MB/s eta 0:00:01\r\u001b[K     |████▊                           | 112kB 5.8MB/s eta 0:00:01\r\u001b[K     |█████                           | 122kB 5.8MB/s eta 0:00:01\r\u001b[K     |█████▌                          | 133kB 5.8MB/s eta 0:00:01\r\u001b[K     |██████                          | 143kB 5.8MB/s eta 0:00:01\r\u001b[K     |██████▍                         | 153kB 5.8MB/s eta 0:00:01\r\u001b[K     |██████▉                         | 163kB 5.8MB/s eta 0:00:01\r\u001b[K     |███████▎                        | 174kB 5.8MB/s eta 0:00:01\r\u001b[K     |███████▋                        | 184kB 5.8MB/s eta 0:00:01\r\u001b[K     |████████                        | 194kB 5.8MB/s eta 0:00:01\r\u001b[K     |████████▌                       | 204kB 5.8MB/s eta 0:00:01\r\u001b[K     |█████████                       | 215kB 5.8MB/s eta 0:00:01\r\u001b[K     |█████████▍                      | 225kB 5.8MB/s eta 0:00:01\r\u001b[K     |█████████▉                      | 235kB 5.8MB/s eta 0:00:01\r\u001b[K     |██████████▏                     | 245kB 5.8MB/s eta 0:00:01\r\u001b[K     |██████████▋                     | 256kB 5.8MB/s eta 0:00:01\r\u001b[K     |███████████                     | 266kB 5.8MB/s eta 0:00:01\r\u001b[K     |███████████▌                    | 276kB 5.8MB/s eta 0:00:01\r\u001b[K     |████████████                    | 286kB 5.8MB/s eta 0:00:01\r\u001b[K     |████████████▎                   | 296kB 5.8MB/s eta 0:00:01\r\u001b[K     |████████████▊                   | 307kB 5.8MB/s eta 0:00:01\r\u001b[K     |█████████████▏                  | 317kB 5.8MB/s eta 0:00:01\r\u001b[K     |█████████████▋                  | 327kB 5.8MB/s eta 0:00:01\r\u001b[K     |██████████████                  | 337kB 5.8MB/s eta 0:00:01\r\u001b[K     |██████████████▌                 | 348kB 5.8MB/s eta 0:00:01\r\u001b[K     |██████████████▉                 | 358kB 5.8MB/s eta 0:00:01\r\u001b[K     |███████████████▎                | 368kB 5.8MB/s eta 0:00:01\r\u001b[K     |███████████████▊                | 378kB 5.8MB/s eta 0:00:01\r\u001b[K     |████████████████▏               | 389kB 5.8MB/s eta 0:00:01\r\u001b[K     |████████████████▋               | 399kB 5.8MB/s eta 0:00:01\r\u001b[K     |█████████████████               | 409kB 5.8MB/s eta 0:00:01\r\u001b[K     |█████████████████▍              | 419kB 5.8MB/s eta 0:00:01\r\u001b[K     |█████████████████▉              | 430kB 5.8MB/s eta 0:00:01\r\u001b[K     |██████████████████▎             | 440kB 5.8MB/s eta 0:00:01\r\u001b[K     |██████████████████▊             | 450kB 5.8MB/s eta 0:00:01\r\u001b[K     |███████████████████▏            | 460kB 5.8MB/s eta 0:00:01\r\u001b[K     |███████████████████▋            | 471kB 5.8MB/s eta 0:00:01\r\u001b[K     |████████████████████            | 481kB 5.8MB/s eta 0:00:01\r\u001b[K     |████████████████████▍           | 491kB 5.8MB/s eta 0:00:01\r\u001b[K     |████████████████████▉           | 501kB 5.8MB/s eta 0:00:01\r\u001b[K     |█████████████████████▎          | 512kB 5.8MB/s eta 0:00:01\r\u001b[K     |█████████████████████▊          | 522kB 5.8MB/s eta 0:00:01\r\u001b[K     |██████████████████████          | 532kB 5.8MB/s eta 0:00:01\r\u001b[K     |██████████████████████▌         | 542kB 5.8MB/s eta 0:00:01\r\u001b[K     |███████████████████████         | 552kB 5.8MB/s eta 0:00:01\r\u001b[K     |███████████████████████▍        | 563kB 5.8MB/s eta 0:00:01\r\u001b[K     |███████████████████████▉        | 573kB 5.8MB/s eta 0:00:01\r\u001b[K     |████████████████████████▎       | 583kB 5.8MB/s eta 0:00:01\r\u001b[K     |████████████████████████▋       | 593kB 5.8MB/s eta 0:00:01\r\u001b[K     |█████████████████████████       | 604kB 5.8MB/s eta 0:00:01\r\u001b[K     |█████████████████████████▌      | 614kB 5.8MB/s eta 0:00:01\r\u001b[K     |██████████████████████████      | 624kB 5.8MB/s eta 0:00:01\r\u001b[K     |██████████████████████████▍     | 634kB 5.8MB/s eta 0:00:01\r\u001b[K     |██████████████████████████▉     | 645kB 5.8MB/s eta 0:00:01\r\u001b[K     |███████████████████████████▏    | 655kB 5.8MB/s eta 0:00:01\r\u001b[K     |███████████████████████████▋    | 665kB 5.8MB/s eta 0:00:01\r\u001b[K     |████████████████████████████    | 675kB 5.8MB/s eta 0:00:01\r\u001b[K     |████████████████████████████▌   | 686kB 5.8MB/s eta 0:00:01\r\u001b[K     |█████████████████████████████   | 696kB 5.8MB/s eta 0:00:01\r\u001b[K     |█████████████████████████████▍  | 706kB 5.8MB/s eta 0:00:01\r\u001b[K     |█████████████████████████████▊  | 716kB 5.8MB/s eta 0:00:01\r\u001b[K     |██████████████████████████████▏ | 727kB 5.8MB/s eta 0:00:01\r\u001b[K     |██████████████████████████████▋ | 737kB 5.8MB/s eta 0:00:01\r\u001b[K     |███████████████████████████████ | 747kB 5.8MB/s eta 0:00:01\r\u001b[K     |███████████████████████████████▌| 757kB 5.8MB/s eta 0:00:01\r\u001b[K     |███████████████████████████████▉| 768kB 5.8MB/s eta 0:00:01\r\u001b[K     |████████████████████████████████| 778kB 5.8MB/s \n",
            "\u001b[?25h"
          ],
          "name": "stdout"
        },
        {
          "output_type": "stream",
          "text": [
            "/usr/local/lib/python3.6/dist-packages/sklearn/utils/deprecation.py:144: FutureWarning: The sklearn.cluster.k_means_ module is  deprecated in version 0.22 and will be removed in version 0.24. The corresponding classes / functions should instead be imported from sklearn.cluster. Anything that cannot be imported from sklearn.cluster is now part of the private API.\n",
            "  warnings.warn(message, FutureWarning)\n"
          ],
          "name": "stderr"
        }
      ]
    },
    {
      "cell_type": "code",
      "metadata": {
        "id": "d138kjUM1r3W"
      },
      "source": [
        "#!git clone -l -s https://github.com/Amelrich/Capstone-Fall-2020.git capstone_git_repo"
      ],
      "execution_count": null,
      "outputs": []
    },
    {
      "cell_type": "code",
      "metadata": {
        "id": "C5gaRuDsxiUJ",
        "colab": {
          "base_uri": "https://localhost:8080/"
        },
        "outputId": "0ecfaff2-145d-4b14-839e-670f13e76cb5"
      },
      "source": [
        "import numpy.random as rd\n",
        "\n",
        "import pandas as pd\n",
        "import numpy as np\n",
        "import seaborn as sns\n",
        "from fastpip import pip\n",
        "from collections import Counter\n",
        "import matplotlib.pyplot as plt\n",
        "import os\n",
        "%matplotlib inline\n",
        "#os.chdir('/content/drive/My Drive/Capstone - JPM')\n",
        "from yellowbrick.cluster import KElbowVisualizer\n",
        "from tslearn.clustering import TimeSeriesKMeans, silhouette_score\n",
        "from yellowbrick.cluster import SilhouetteVisualizer\n",
        "from sklearn.preprocessing import MinMaxScaler, StandardScaler\n",
        "from numpy import asarray\n",
        "from numpy import save\n",
        "from itertools import product\n",
        "from collections import defaultdict"
      ],
      "execution_count": 4,
      "outputs": [
        {
          "output_type": "stream",
          "text": [
            "/usr/local/lib/python3.6/dist-packages/sklearn/utils/deprecation.py:144: FutureWarning: The sklearn.metrics.classification module is  deprecated in version 0.22 and will be removed in version 0.24. The corresponding classes / functions should instead be imported from sklearn.metrics. Anything that cannot be imported from sklearn.metrics is now part of the private API.\n",
            "  warnings.warn(message, FutureWarning)\n"
          ],
          "name": "stderr"
        }
      ]
    },
    {
      "cell_type": "code",
      "metadata": {
        "id": "KykO-ssa1-rB"
      },
      "source": [
        "os.chdir('/content/drive/My Drive/Capstone - JPM/capstone_git_repo')\n",
        "from TS_utils import TS_generator\n",
        "from TS_utils import MedianScaler, DCT_lowpass_filter\n",
        "from TS_utils import KMedians\n",
        "from TS_utils import Synthetic_TS_generator\n",
        "#stg = Synthetic_TS_generator(noise=False)\n",
        "#X_synthetic = stg.get_array()"
      ],
      "execution_count": 5,
      "outputs": []
    },
    {
      "cell_type": "code",
      "metadata": {
        "id": "SWy0CyOXxi8q"
      },
      "source": [
        "try:\n",
        "  from google.colab import files\n",
        "  !wget -q https://github.com/Amelrich/Capstone-Fall-2020/archive/master.zip\n",
        "  !unzip -q master.zip\n",
        "  !mv Capstone-Fall-2020-master/data/ data/\n",
        "  !rm -rf master.zip Capstone-Fall-2020-master/\n",
        "except:\n",
        "  print(\"only in Colab\")"
      ],
      "execution_count": 6,
      "outputs": []
    },
    {
      "cell_type": "code",
      "metadata": {
        "id": "yoPPRDlIA16t"
      },
      "source": [
        "# Creating data\n",
        "\n",
        "context_scale = 60\n",
        "current_scale = 20\n",
        "gen = TS_generator(nb_timeseries=1000, chunk_size=context_scale)\n",
        "context_matrix = gen.get_array()\n",
        "#context_matrix = X_synthetic\n",
        "os.chdir('/content/drive/My Drive/Capstone - JPM')"
      ],
      "execution_count": 7,
      "outputs": []
    },
    {
      "cell_type": "markdown",
      "metadata": {
        "id": "Cw6bsW-b27l0"
      },
      "source": [
        "# Helper functions"
      ]
    },
    {
      "cell_type": "code",
      "metadata": {
        "id": "oMKjXoEQzXl9"
      },
      "source": [
        "def reduce_dimension(context, dim):\n",
        "    embed_matrix = np.empty(shape=[0, dim])\n",
        "    # Going through each row of the context scale and reduce its dimension\n",
        "    for i in range(context.shape[0]):\n",
        "        x = np.arange(1, context.shape[1] + 1)  \n",
        "        y = context[i,:]\n",
        "        sample = [(a,b) for a, b in zip(x,y)]\n",
        "        reduce_sample = pip(sample, dim)\n",
        "        result = [a[1] for a in reduce_sample]\n",
        "        \n",
        "        embed_matrix = np.append(embed_matrix, np.asarray(result).reshape(1,-1), axis =0)\n",
        "    return embed_matrix\n",
        "\n",
        "def preprocessing(x):\n",
        "  context_matrix_scale = np.transpose(MinMaxScaler().fit_transform(np.transpose(x.copy())))\n",
        "  context_matrix_pip = reduce_dimension(context_matrix_scale.copy(), 30)\n",
        "  context_matrix_smooth = DCT_lowpass_filter().fit_transform(context_matrix_pip.copy())\n",
        "  print(\"Preprocessing Done\")\n",
        "  return context_matrix_smooth\n",
        "\n",
        "def clustering(x):\n",
        "  num_clus = 6\n",
        "  model = TimeSeriesKMeans(n_clusters=num_clus, max_iter=5,random_state=0).fit(x)\n",
        "  return model.predict(x)\n",
        "\n",
        "\n",
        "def preprocessing_clustering(x):\n",
        "  print(\"Starting to cluster...\")\n",
        "  x_preprocessed = preprocessing(x)\n",
        "  y_pred = clustering(x_preprocessed)\n",
        "  print(\"Finished!\")\n",
        "  return y_pred"
      ],
      "execution_count": 29,
      "outputs": []
    },
    {
      "cell_type": "code",
      "metadata": {
        "colab": {
          "base_uri": "https://localhost:8080/"
        },
        "id": "0ST67tfR1YTB",
        "outputId": "ff6a1c5e-1d9f-44bc-849b-a8cf9400c194"
      },
      "source": [
        "y_pred = preprocessing_clustering(context_matrix)"
      ],
      "execution_count": 30,
      "outputs": [
        {
          "output_type": "stream",
          "text": [
            "Starting to cluster...\n",
            "Preprocessing Done\n",
            "Finished!\n"
          ],
          "name": "stdout"
        },
        {
          "output_type": "stream",
          "text": [
            "/usr/local/lib/python3.6/dist-packages/tslearn/utils.py:91: UserWarning: 2-Dimensional data passed. Assuming these are 1000 1-dimensional timeseries\n",
            "  '{} 1-dimensional timeseries'.format(X.shape[0]))\n"
          ],
          "name": "stderr"
        }
      ]
    },
    {
      "cell_type": "code",
      "metadata": {
        "colab": {
          "base_uri": "https://localhost:8080/"
        },
        "id": "8jwa4TUU2tRe",
        "outputId": "24adbf8a-b474-4cd2-8b10-73605eedf280"
      },
      "source": [
        "y_pred.shape"
      ],
      "execution_count": 31,
      "outputs": [
        {
          "output_type": "execute_result",
          "data": {
            "text/plain": [
              "(1000,)"
            ]
          },
          "metadata": {
            "tags": []
          },
          "execution_count": 31
        }
      ]
    },
    {
      "cell_type": "code",
      "metadata": {
        "colab": {
          "base_uri": "https://localhost:8080/",
          "height": 367
        },
        "id": "ovAb8hFK2OSS",
        "outputId": "1d16b039-eea2-43a4-82b7-79fb8e2d7eb0"
      },
      "source": [
        "plt.plot(context_matrix[0]);"
      ],
      "execution_count": 32,
      "outputs": [
        {
          "output_type": "display_data",
          "data": {
            "image/png": "[encoded data removed]",
            "text/plain": [
              "<Figure size 576x396 with 1 Axes>"
            ]
          },
          "metadata": {
            "tags": []
          }
        }
      ]
    },
    {
      "cell_type": "code",
      "metadata": {
        "colab": {
          "base_uri": "https://localhost:8080/",
          "height": 384
        },
        "id": "bklRPVu-1_nr",
        "outputId": "abf7a5e3-38ff-4b6d-c6aa-5b25c8c5d426"
      },
      "source": [
        "plt.plot(preprocessing(context_matrix)[0]);"
      ],
      "execution_count": 33,
      "outputs": [
        {
          "output_type": "stream",
          "text": [
            "Preprocessing Done\n"
          ],
          "name": "stdout"
        },
        {
          "output_type": "display_data",
          "data": {
            "image/png": "[encoded data removed]",
            "text/plain": [
              "<Figure size 576x396 with 1 Axes>"
            ]
          },
          "metadata": {
            "tags": []
          }
        }
      ]
    },
    {
      "cell_type": "code",
      "metadata": {
        "id": "qlfoAh1u2YUl"
      },
      "source": [
        ""
      ],
      "execution_count": null,
      "outputs": []
    }
  ]
}