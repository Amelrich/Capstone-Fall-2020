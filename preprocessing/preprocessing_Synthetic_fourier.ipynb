{
  "nbformat": 4,
  "nbformat_minor": 0,
  "metadata": {
    "kernelspec": {
      "display_name": "Python 3",
      "language": "python",
      "name": "python3"
    },
    "language_info": {
      "codemirror_mode": {
        "name": "ipython",
        "version": 3
      },
      "file_extension": ".py",
      "mimetype": "text/x-python",
      "name": "python",
      "nbconvert_exporter": "python",
      "pygments_lexer": "ipython3",
      "version": "3.6.10"
    },
    "colab": {
      "name": "kassie_preprocessing.ipynb",
      "provenance": [],
      "collapsed_sections": [],
      "toc_visible": true,
      "include_colab_link": true
    }
  },
  "cells": [
    {
      "cell_type": "markdown",
      "metadata": {
        "id": "view-in-github",
        "colab_type": "text"
      },
      "source": [
        "<a href=\"https://colab.research.google.com/github/Amelrich/Capstone-Fall-2020/blob/kassie-preprocessing/preprocessing_Synthetic_fourier.ipynb\" target=\"_parent\"><img src=\"https://colab.research.google.com/assets/colab-badge.svg\" alt=\"Open In Colab\"/></a>"
      ]
    },
    {
      "cell_type": "code",
      "metadata": {
        "id": "faTOmY4IQ3BO"
      },
      "source": [
        "import numpy as np\n",
        "import pandas as pd\n",
        "import pandas_datareader.data as web\n",
        "import matplotlib.pyplot as plt\n",
        "import tensorflow as tf\n",
        "from sklearn.preprocessing  import MinMaxScaler\n",
        "from scipy.fftpack import fft,ifft"
      ],
      "execution_count": 8,
      "outputs": []
    },
    {
      "cell_type": "code",
      "metadata": {
        "id": "jspyxLEVFL7j",
        "colab": {
          "base_uri": "https://localhost:8080/"
        },
        "outputId": "24c54bdf-1a04-41be-a558-1ce08fb22576"
      },
      "source": [
        "from google.colab import drive\n",
        "drive.mount('/content/drive')"
      ],
      "execution_count": 3,
      "outputs": [
        {
          "output_type": "stream",
          "text": [
            "Mounted at /content/drive\n"
          ],
          "name": "stdout"
        }
      ]
    },
    {
      "cell_type": "code",
      "metadata": {
        "id": "lExxJijibtLS"
      },
      "source": [
        "from TS_utils import Synthetic_TS_generator\n",
        "stg = Synthetic_TS_generator(noise=False)\n",
        "X_synthetic = stg.get_array()"
      ],
      "execution_count": 4,
      "outputs": []
    },
    {
      "cell_type": "code",
      "metadata": {
        "id": "uwNl5Dy-FGBu"
      },
      "source": [
        "X = X_synthetic"
      ],
      "execution_count": 6,
      "outputs": []
    },
    {
      "cell_type": "code",
      "metadata": {
        "id": "o2OVdlMOGKI9",
        "colab": {
          "base_uri": "https://localhost:8080/",
          "height": 282
        },
        "outputId": "8bff3e2c-9edb-47b8-be3e-8cf0b2305172"
      },
      "source": [
        "plt.plot(X_synthetic[1])"
      ],
      "execution_count": null,
      "outputs": [
        {
          "output_type": "execute_result",
          "data": {
            "text/plain": [
              "[<matplotlib.lines.Line2D at 0x7fd66f52a4a8>]"
            ]
          },
          "metadata": {
            "tags": []
          },
          "execution_count": 14
        },
        {
          "output_type": "display_data",
          "data": {
            "image/png": "[encoded data removed]",
            "text/plain": [
              "<Figure size 432x288 with 1 Axes>"
            ]
          },
          "metadata": {
            "tags": [],
            "needs_background": "light"
          }
        }
      ]
    },
    {
      "cell_type": "markdown",
      "metadata": {
        "id": "mVozYUe0JK-Z"
      },
      "source": [
        "### How we achieve multiscale data points\n",
        "\n",
        "Two methods\n",
        "\n",
        "* By picking prices every consecutive, alterate and every 2 days \n",
        "\n",
        "* By picking consecutive prices for 50, 100, 150 days.\n",
        "\n",
        "Please see methods `get_multiscale_skipped_values` and `get_multiscale_consecutive_values`\n",
        "\n"
      ]
    },
    {
      "cell_type": "code",
      "metadata": {
        "id": "gT_DD5UOAxWS",
        "outputId": "79edee22-e895-4b49-edf3-6663366d3c59",
        "colab": {
          "base_uri": "https://localhost:8080/"
        }
      },
      "source": [
        "def to_fourier(liste):\n",
        "  return np.array(fft(np.array(liste))[1:13]).real\n",
        "\n",
        "def get_multiscale_skipped_values(df_start_end):\n",
        "  days_60 = df_start_end[-60:]\n",
        "  days_40 = [0 if i % 2 else x for i, x in enumerate(days_60)]\n",
        "  days_20 = [0 if i % 3 else x for i, x in enumerate(days_60)]\n",
        "  dictionary = {'60_days': to_fourier(days_60), '40_days': to_fourier(days_40), \n",
        "                '20_days': to_fourier(days_20)}\n",
        "  return dictionary\n",
        "\n",
        "def get_multiscale_consecutive_values(df_start_end):\n",
        "  days_20 = df_start_end[-20:]\n",
        "  days_40 = df_start_end[-40:]\n",
        "  days_60 = df_start_end[-60:]\n",
        "  \n",
        "  days_20_all = np.append(np.zeros((40)), days_20 ,0)\n",
        "  days_40_all = np.append(np.zeros((20)), days_40,0)\n",
        "  \n",
        "  dictionary = {'20_days': to_fourier(days_20_all), '40_days': to_fourier(days_40_all),\n",
        "                    '60_days': to_fourier(days_60)}\n",
        "  return dictionary\n",
        "\n",
        "\n",
        "skipped_values = []\n",
        "consecutive_values = []\n",
        "n = 0\n",
        "for df in X:\n",
        " \n",
        "  n = n + 1\n",
        "  if n%1000 == 0:\n",
        "    print(\"{} stocksout of {} completed\".format(n,len(X)))\n",
        "  \n",
        "  #scaler = MinMaxScaler()\n",
        "  #data_scaled = scaler.fit_transform(df[:,0].reshape(-1, 1)).reshape(1,-1)[0]\n",
        "  \n",
        "  dictionary_skipped_values = get_multiscale_skipped_values(df)\n",
        "  dictionary_consecutive_values = get_multiscale_consecutive_values(df)\n",
        " \n",
        "  datapoint_skipped_values = pd.DataFrame(dictionary_skipped_values).to_numpy()\n",
        "  datapoint_consecutive_values = pd.DataFrame(dictionary_consecutive_values).to_numpy()\n",
        "\n",
        "\n",
        "  skipped_values.append(datapoint_skipped_values)\n",
        "  consecutive_values.append(datapoint_consecutive_values)\n"
      ],
      "execution_count": 9,
      "outputs": [
        {
          "output_type": "stream",
          "text": [
            "1000 stocksout of 3000 completed\n",
            "2000 stocksout of 3000 completed\n",
            "3000 stocksout of 3000 completed\n"
          ],
          "name": "stdout"
        }
      ]
    },
    {
      "cell_type": "code",
      "metadata": {
        "id": "LB8U0Sq6NTz2"
      },
      "source": [
        "np.save(\"/content/drive/My Drive/capstone/skipped_values_Synthetic_fourier.npy\", skipped_values)\n",
        "np.save(\"/content/drive/My Drive/capstone/consecutive_values_Synthetic_fourier.npy\", consecutive_values)"
      ],
      "execution_count": 13,
      "outputs": []
    },
    {
      "cell_type": "code",
      "metadata": {
        "id": "g5A7RF2KBmg1",
        "outputId": "98bd2fa7-aae9-46c2-dd43-62f3bacd64c4",
        "colab": {
          "base_uri": "https://localhost:8080/"
        }
      },
      "source": [
        "datapoint_skipped_values"
      ],
      "execution_count": 12,
      "outputs": [
        {
          "output_type": "execute_result",
          "data": {
            "text/plain": [
              "array([[ 0.43996995,  0.47482927,  0.48879594],\n",
              "       [ 0.31787511,  0.41382423,  0.44826451],\n",
              "       [ 0.21273864,  0.36132777,  0.41350811],\n",
              "       [-0.28574461,  0.11218907,  0.24777651],\n",
              "       [ 1.21729448,  0.86384532,  0.74938852],\n",
              "       [ 0.71992217,  0.61533323,  0.58441125],\n",
              "       [ 0.62240345,  0.5667901 ,  0.55300269],\n",
              "       [ 0.58176825,  0.54673721,  0.54094993],\n",
              "       [ 0.55993056,  0.53613982,  0.53574013],\n",
              "       [ 0.54652987,  0.52982848,  0.53424009],\n",
              "       [ 0.53760126,  0.52583503,  0.53574013],\n",
              "       [ 0.53130819,  0.52326021,  0.54094993]])"
            ]
          },
          "metadata": {
            "tags": []
          },
          "execution_count": 12
        }
      ]
    },
    {
      "cell_type": "markdown",
      "metadata": {
        "id": "sZavT7TAwNqk"
      },
      "source": [
        "## Visualization of data points"
      ]
    },
    {
      "cell_type": "code",
      "metadata": {
        "id": "PA6_mvXZsZ7y",
        "colab": {
          "base_uri": "https://localhost:8080/",
          "height": 366
        },
        "outputId": "3d04242c-e16a-425c-df1f-eeb887ebdbbc"
      },
      "source": [
        "from matplotlib import pyplot as plt \n",
        "\n",
        "fig, ax = plt.subplots()\n",
        "lines = ax.stem(datapoint_skipped_values[:,0])\n",
        "ax.set_title(\"Skipped Values\") \n",
        "ax.set(xlabel='days')\n",
        "ax.legend(['60 days', '40 days', '20 days'])"
      ],
      "execution_count": 16,
      "outputs": [
        {
          "output_type": "stream",
          "text": [
            "/usr/local/lib/python3.6/dist-packages/ipykernel_launcher.py:4: UserWarning: In Matplotlib 3.3 individual lines on a stem plot will be added as a LineCollection instead of individual lines. This significantly improves the performance of a stem plot. To remove this warning and switch to the new behaviour, set the \"use_line_collection\" keyword argument to True.\n",
            "  after removing the cwd from sys.path.\n"
          ],
          "name": "stderr"
        },
        {
          "output_type": "execute_result",
          "data": {
            "text/plain": [
              "<matplotlib.legend.Legend at 0x7fee9b2c96d8>"
            ]
          },
          "metadata": {
            "tags": []
          },
          "execution_count": 16
        },
        {
          "output_type": "display_data",
          "data": {
            "image/png": "[encoded data removed]",
            "text/plain": [
              "<Figure size 432x288 with 1 Axes>"
            ]
          },
          "metadata": {
            "tags": [],
            "needs_background": "light"
          }
        }
      ]
    },
    {
      "cell_type": "code",
      "metadata": {
        "id": "CfDkb1NAr_2Z",
        "colab": {
          "base_uri": "https://localhost:8080/",
          "height": 366
        },
        "outputId": "5dbb69a4-b252-4f8c-c481-b6c1d3b2916d"
      },
      "source": [
        "from matplotlib import pyplot as plt \n",
        "\n",
        "fig, ax = plt.subplots()\n",
        "lines = ax.stem(datapoint_consecutive_values[:,0])\n",
        "ax.set_title(\"Padded Values\") \n",
        "ax.set(xlabel='days')\n",
        "ax.legend(['20 days', '40 days', '60 days'])"
      ],
      "execution_count": 15,
      "outputs": [
        {
          "output_type": "stream",
          "text": [
            "/usr/local/lib/python3.6/dist-packages/ipykernel_launcher.py:4: UserWarning: In Matplotlib 3.3 individual lines on a stem plot will be added as a LineCollection instead of individual lines. This significantly improves the performance of a stem plot. To remove this warning and switch to the new behaviour, set the \"use_line_collection\" keyword argument to True.\n",
            "  after removing the cwd from sys.path.\n"
          ],
          "name": "stderr"
        },
        {
          "output_type": "execute_result",
          "data": {
            "text/plain": [
              "<matplotlib.legend.Legend at 0x7fee9b33f320>"
            ]
          },
          "metadata": {
            "tags": []
          },
          "execution_count": 15
        },
        {
          "output_type": "display_data",
          "data": {
            "image/png": "[encoded data removed]",
            "text/plain": [
              "<Figure size 432x288 with 1 Axes>"
            ]
          },
          "metadata": {
            "tags": [],
            "needs_background": "light"
          }
        }
      ]
    }
  ]
}