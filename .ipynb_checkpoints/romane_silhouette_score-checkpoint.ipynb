{
 "cells": [
  {
   "cell_type": "markdown",
   "metadata": {
    "colab_type": "text",
    "id": "view-in-github"
   },
   "source": [
    "<a href=\"https://colab.research.google.com/github/Amelrich/Capstone-Fall-2020/blob/master/romane_silhouette_score.ipynb\" target=\"_parent\"><img src=\"https://colab.research.google.com/assets/colab-badge.svg\" alt=\"Open In Colab\"/></a>"
   ]
  },
  {
   "cell_type": "code",
   "execution_count": 10,
   "metadata": {
    "colab": {
     "base_uri": "https://localhost:8080/",
     "height": 258
    },
    "id": "w4KRGoMhGmi_",
    "outputId": "0bea11bf-6745-4ac5-9a0d-3c4ed31ef033"
   },
   "outputs": [
    {
     "name": "stdout",
     "output_type": "stream",
     "text": [
      "Collecting tslearn\n",
      "\u001b[?25l  Downloading https://files.pythonhosted.org/packages/a7/67/aa3149fdfef2582d881ce4a5117c9e6a465d5082dd57866904ca508a157c/tslearn-0.4.1-cp36-cp36m-manylinux2010_x86_64.whl (770kB)\n",
      "\r",
      "\u001b[K     |▍                               | 10kB 14.8MB/s eta 0:00:01\r",
      "\u001b[K     |▉                               | 20kB 2.1MB/s eta 0:00:01\r",
      "\u001b[K     |█▎                              | 30kB 2.7MB/s eta 0:00:01\r",
      "\u001b[K     |█▊                              | 40kB 3.0MB/s eta 0:00:01\r",
      "\u001b[K     |██▏                             | 51kB 2.5MB/s eta 0:00:01\r",
      "\u001b[K     |██▌                             | 61kB 2.7MB/s eta 0:00:01\r",
      "\u001b[K     |███                             | 71kB 3.0MB/s eta 0:00:01\r",
      "\u001b[K     |███▍                            | 81kB 3.3MB/s eta 0:00:01\r",
      "\u001b[K     |███▉                            | 92kB 3.5MB/s eta 0:00:01\r",
      "\u001b[K     |████▎                           | 102kB 3.3MB/s eta 0:00:01\r",
      "\u001b[K     |████▊                           | 112kB 3.3MB/s eta 0:00:01\r",
      "\u001b[K     |█████                           | 122kB 3.3MB/s eta 0:00:01\r",
      "\u001b[K     |█████▌                          | 133kB 3.3MB/s eta 0:00:01\r",
      "\u001b[K     |██████                          | 143kB 3.3MB/s eta 0:00:01\r",
      "\u001b[K     |██████▍                         | 153kB 3.3MB/s eta 0:00:01\r",
      "\u001b[K     |██████▉                         | 163kB 3.3MB/s eta 0:00:01\r",
      "\u001b[K     |███████▎                        | 174kB 3.3MB/s eta 0:00:01\r",
      "\u001b[K     |███████▋                        | 184kB 3.3MB/s eta 0:00:01\r",
      "\u001b[K     |████████                        | 194kB 3.3MB/s eta 0:00:01\r",
      "\u001b[K     |████████▌                       | 204kB 3.3MB/s eta 0:00:01\r",
      "\u001b[K     |█████████                       | 215kB 3.3MB/s eta 0:00:01\r",
      "\u001b[K     |█████████▍                      | 225kB 3.3MB/s eta 0:00:01\r",
      "\u001b[K     |█████████▉                      | 235kB 3.3MB/s eta 0:00:01\r",
      "\u001b[K     |██████████▏                     | 245kB 3.3MB/s eta 0:00:01\r",
      "\u001b[K     |██████████▋                     | 256kB 3.3MB/s eta 0:00:01\r",
      "\u001b[K     |███████████                     | 266kB 3.3MB/s eta 0:00:01\r",
      "\u001b[K     |███████████▌                    | 276kB 3.3MB/s eta 0:00:01\r",
      "\u001b[K     |████████████                    | 286kB 3.3MB/s eta 0:00:01\r",
      "\u001b[K     |████████████▎                   | 296kB 3.3MB/s eta 0:00:01\r",
      "\u001b[K     |████████████▊                   | 307kB 3.3MB/s eta 0:00:01\r",
      "\u001b[K     |█████████████▏                  | 317kB 3.3MB/s eta 0:00:01\r",
      "\u001b[K     |█████████████▋                  | 327kB 3.3MB/s eta 0:00:01\r",
      "\u001b[K     |██████████████                  | 337kB 3.3MB/s eta 0:00:01\r",
      "\u001b[K     |██████████████▌                 | 348kB 3.3MB/s eta 0:00:01\r",
      "\u001b[K     |██████████████▉                 | 358kB 3.3MB/s eta 0:00:01\r",
      "\u001b[K     |███████████████▎                | 368kB 3.3MB/s eta 0:00:01\r",
      "\u001b[K     |███████████████▊                | 378kB 3.3MB/s eta 0:00:01\r",
      "\u001b[K     |████████████████▏               | 389kB 3.3MB/s eta 0:00:01\r",
      "\u001b[K     |████████████████▋               | 399kB 3.3MB/s eta 0:00:01\r",
      "\u001b[K     |█████████████████               | 409kB 3.3MB/s eta 0:00:01\r",
      "\u001b[K     |█████████████████▍              | 419kB 3.3MB/s eta 0:00:01\r",
      "\u001b[K     |█████████████████▉              | 430kB 3.3MB/s eta 0:00:01\r",
      "\u001b[K     |██████████████████▎             | 440kB 3.3MB/s eta 0:00:01\r",
      "\u001b[K     |██████████████████▊             | 450kB 3.3MB/s eta 0:00:01\r",
      "\u001b[K     |███████████████████▏            | 460kB 3.3MB/s eta 0:00:01\r",
      "\u001b[K     |███████████████████▋            | 471kB 3.3MB/s eta 0:00:01\r",
      "\u001b[K     |████████████████████            | 481kB 3.3MB/s eta 0:00:01\r",
      "\u001b[K     |████████████████████▍           | 491kB 3.3MB/s eta 0:00:01\r",
      "\u001b[K     |████████████████████▉           | 501kB 3.3MB/s eta 0:00:01\r",
      "\u001b[K     |█████████████████████▎          | 512kB 3.3MB/s eta 0:00:01\r",
      "\u001b[K     |█████████████████████▊          | 522kB 3.3MB/s eta 0:00:01\r",
      "\u001b[K     |██████████████████████          | 532kB 3.3MB/s eta 0:00:01\r",
      "\u001b[K     |██████████████████████▌         | 542kB 3.3MB/s eta 0:00:01\r",
      "\u001b[K     |███████████████████████         | 552kB 3.3MB/s eta 0:00:01\r",
      "\u001b[K     |███████████████████████▍        | 563kB 3.3MB/s eta 0:00:01\r",
      "\u001b[K     |███████████████████████▉        | 573kB 3.3MB/s eta 0:00:01\r",
      "\u001b[K     |████████████████████████▎       | 583kB 3.3MB/s eta 0:00:01\r",
      "\u001b[K     |████████████████████████▋       | 593kB 3.3MB/s eta 0:00:01\r",
      "\u001b[K     |█████████████████████████       | 604kB 3.3MB/s eta 0:00:01\r",
      "\u001b[K     |█████████████████████████▌      | 614kB 3.3MB/s eta 0:00:01\r",
      "\u001b[K     |██████████████████████████      | 624kB 3.3MB/s eta 0:00:01\r",
      "\u001b[K     |██████████████████████████▍     | 634kB 3.3MB/s eta 0:00:01\r",
      "\u001b[K     |██████████████████████████▉     | 645kB 3.3MB/s eta 0:00:01\r",
      "\u001b[K     |███████████████████████████▏    | 655kB 3.3MB/s eta 0:00:01\r",
      "\u001b[K     |███████████████████████████▋    | 665kB 3.3MB/s eta 0:00:01\r",
      "\u001b[K     |████████████████████████████    | 675kB 3.3MB/s eta 0:00:01\r",
      "\u001b[K     |████████████████████████████▌   | 686kB 3.3MB/s eta 0:00:01\r",
      "\u001b[K     |█████████████████████████████   | 696kB 3.3MB/s eta 0:00:01\r",
      "\u001b[K     |█████████████████████████████▍  | 706kB 3.3MB/s eta 0:00:01\r",
      "\u001b[K     |█████████████████████████████▊  | 716kB 3.3MB/s eta 0:00:01\r",
      "\u001b[K     |██████████████████████████████▏ | 727kB 3.3MB/s eta 0:00:01\r",
      "\u001b[K     |██████████████████████████████▋ | 737kB 3.3MB/s eta 0:00:01\r",
      "\u001b[K     |███████████████████████████████ | 747kB 3.3MB/s eta 0:00:01\r",
      "\u001b[K     |███████████████████████████████▌| 757kB 3.3MB/s eta 0:00:01\r",
      "\u001b[K     |███████████████████████████████▉| 768kB 3.3MB/s eta 0:00:01\r",
      "\u001b[K     |████████████████████████████████| 778kB 3.3MB/s \n",
      "\u001b[?25hRequirement already satisfied: scipy in /usr/local/lib/python3.6/dist-packages (from tslearn) (1.4.1)\n",
      "Requirement already satisfied: scikit-learn in /usr/local/lib/python3.6/dist-packages (from tslearn) (0.22.2.post1)\n",
      "Requirement already satisfied: numpy in /usr/local/lib/python3.6/dist-packages (from tslearn) (1.18.5)\n",
      "Requirement already satisfied: Cython in /usr/local/lib/python3.6/dist-packages (from tslearn) (0.29.21)\n",
      "Requirement already satisfied: numba in /usr/local/lib/python3.6/dist-packages (from tslearn) (0.48.0)\n",
      "Requirement already satisfied: joblib in /usr/local/lib/python3.6/dist-packages (from tslearn) (0.16.0)\n",
      "Requirement already satisfied: setuptools in /usr/local/lib/python3.6/dist-packages (from numba->tslearn) (50.3.0)\n",
      "Requirement already satisfied: llvmlite<0.32.0,>=0.31.0dev0 in /usr/local/lib/python3.6/dist-packages (from numba->tslearn) (0.31.0)\n",
      "Installing collected packages: tslearn\n",
      "Successfully installed tslearn-0.4.1\n"
     ]
    }
   ],
   "source": [
    "import pandas as pd\n",
    "import numpy as np\n",
    "from collections import Counter\n",
    "from datetime import datetime\n",
    "from random import sample\n",
    "import numpy.random as rd\n",
    "\n",
    "!pip install tslearn"
   ]
  },
  {
   "cell_type": "markdown",
   "metadata": {
    "id": "Aef1IaJCGZoh"
   },
   "source": [
    "# 1. Silhouette Score Function"
   ]
  },
  {
   "cell_type": "code",
   "execution_count": 11,
   "metadata": {
    "id": "_FvdXEFXGSTT"
   },
   "outputs": [],
   "source": [
    "#Silhouette scores per clusters\n",
    "from sklearn.metrics import silhouette_samples\n",
    "\n",
    "def sil_sample_cluster(data, col1, col2, thresh):\n",
    "  '''\n",
    "  computes the percentage of silhouette scores about a threshold within each cluster\n",
    "  (input) data: DataFrame; col1: str refering to cluster column; col2: str refering to silhouette scores column; thresh: float between -1 and 1\n",
    "  (output) ss_scores; dictionary\n",
    "  '''\n",
    "  ss_scores = {}\n",
    "  for i in range(data[col1].nunique()):\n",
    "    subs = data[data[col1]==i]\n",
    "    ss_thresh = subs[subs[col2]>=thresh]\n",
    "    ss_scores[i] = len(ss_thresh)/len(subs)\n",
    "  \n",
    "  return ss_scores"
   ]
  },
  {
   "cell_type": "markdown",
   "metadata": {
    "id": "EqgmaC0ZGv4u"
   },
   "source": [
    "# 2. Example "
   ]
  },
  {
   "cell_type": "code",
   "execution_count": 12,
   "metadata": {
    "id": "9b_nx4WEGkLl"
   },
   "outputs": [],
   "source": [
    "#Get the data\n",
    "\n",
    "##Time series generator function\n",
    "class TS_generator:\n",
    "  def __init__(self, nb_timeseries=2000, chunk_size=100):\n",
    "    \n",
    "    self.chunk_size = chunk_size\n",
    "    self.nb_timeseries = nb_timeseries\n",
    "\n",
    "    #Retrieve the stocks names\n",
    "    self.symbols = pd.read_csv('https://raw.githubusercontent.com/Amelrich/Capstone-Fall-2020/master/sp500.csv', index_col=False)\n",
    "    self.symbols = list(self.symbols['Symbol'].values)\n",
    "    self.symbols = ['BF-B' if x=='BF.B' else x for x in self.symbols]\n",
    "    self.symbols = ['BRK-B' if x=='BRK.B' else x for x in self.symbols]\n",
    "\n",
    "    self.list_df = []\n",
    "\n",
    "    #Build the random time series\n",
    "    self.build_()\n",
    "\n",
    "  def build_(self):    \n",
    "    for _ in range(self.nb_timeseries):\n",
    "\n",
    "      #Pick a random stock\n",
    "      stock = self.symbols[rd.randint(len(self.symbols))]\n",
    "      TS = pd.read_csv('https://raw.githubusercontent.com/Amelrich/Capstone-Fall-2020/master/data/'+stock+'.csv')\n",
    "      \n",
    "      #Pick a random starting point\n",
    "      timemax = len(TS) - self.chunk_size\n",
    "      start = rd.randint(timemax)\n",
    "      stock_df = TS[start : start+self.chunk_size]\n",
    "\n",
    "      self.list_df.append( stock_df )\n",
    "\n",
    "  def get_list_of_df(self):\n",
    "    #\n",
    "    return self.list_df\n",
    "\n",
    "  def get_array(self):\n",
    "    #Return adjusted close array\n",
    "    close_array = np.zeros((self.nb_timeseries, self.chunk_size))\n",
    "\n",
    "    for i in range(self.nb_timeseries):\n",
    "      close_array[i,:] = self.list_df[i]['Adj Close'].to_numpy()\n",
    "\n",
    "    return close_array\n",
    "\n",
    "##Scraping and getting the time series\n",
    "nb_timeseries = 1000\n",
    "\n",
    "gen = TS_generator(nb_timeseries=nb_timeseries, chunk_size=100) #default values but just for the syntax\n",
    "X = gen.get_array()"
   ]
  },
  {
   "cell_type": "code",
   "execution_count": 14,
   "metadata": {
    "colab": {
     "base_uri": "https://localhost:8080/",
     "height": 68
    },
    "id": "cBFGNGXZHftI",
    "outputId": "8b1b0b29-ff82-4768-92bd-5eeead2492be"
   },
   "outputs": [
    {
     "name": "stderr",
     "output_type": "stream",
     "text": [
      "/usr/local/lib/python3.6/dist-packages/tslearn/utils.py:91: UserWarning: 2-Dimensional data passed. Assuming these are 1000 1-dimensional timeseries\n",
      "  '{} 1-dimensional timeseries'.format(X.shape[0]))\n"
     ]
    },
    {
     "name": "stdout",
     "output_type": "stream",
     "text": [
      "Counter({0: 240, 1: 126, 3: 108, 4: 104, 9: 102, 2: 98, 5: 73, 7: 60, 8: 50, 6: 39})\n"
     ]
    }
   ],
   "source": [
    "#Fourier Transform Example\n",
    "from tslearn.clustering import TimeSeriesKMeans\n",
    "from sklearn.preprocessing import StandardScaler\n",
    "from scipy.fftpack import fft,ifft, rfft, irfft\n",
    "\n",
    "X_scaled = StandardScaler().fit_transform(X.T).T\n",
    "X_ft = fft(X_scaled)\n",
    "\n",
    "X_ft_real_imag = np.concatenate((X_ft.real,X_ft.imag),axis=1)\n",
    "\n",
    "tsm = TimeSeriesKMeans(n_clusters=10, metric=\"dtw\", max_iter=5,random_state=0).fit(X_ft_real_imag)\n",
    "y_train_pred = tsm.predict(X_ft_real_imag)\n",
    "\n",
    "print(Counter(y_train_pred))"
   ]
  },
  {
   "cell_type": "code",
   "execution_count": 15,
   "metadata": {
    "colab": {
     "base_uri": "https://localhost:8080/",
     "height": 34
    },
    "id": "cDhrwxc-JoVZ",
    "outputId": "66f9e27b-776b-48db-ab85-be71de41bc7a"
   },
   "outputs": [
    {
     "data": {
      "text/plain": [
       "0.14569857686201193"
      ]
     },
     "execution_count": 15,
     "metadata": {
      "tags": []
     },
     "output_type": "execute_result"
    }
   ],
   "source": [
    "#Overall Silhouette Score (mean silhouette scores over all clusters)\n",
    "from tslearn.clustering import silhouette_score\n",
    "\n",
    "silhouette_score(X_ft_real_imag, y_train_pred, metric = 'dtw')"
   ]
  },
  {
   "cell_type": "code",
   "execution_count": 23,
   "metadata": {
    "colab": {
     "base_uri": "https://localhost:8080/",
     "height": 187
    },
    "id": "ie6Yw3-2JpZa",
    "outputId": "a5a4394a-11af-4c18-93b7-4bfd358b8fda"
   },
   "outputs": [
    {
     "data": {
      "text/plain": [
       "{0: 1.0,\n",
       " 1: 1.0,\n",
       " 2: 0.6632653061224489,\n",
       " 3: 0.7592592592592593,\n",
       " 4: 0.9038461538461539,\n",
       " 5: 0.9452054794520548,\n",
       " 6: 0.8205128205128205,\n",
       " 7: 0.95,\n",
       " 8: 0.76,\n",
       " 9: 0.6470588235294118}"
      ]
     },
     "execution_count": 23,
     "metadata": {
      "tags": []
     },
     "output_type": "execute_result"
    }
   ],
   "source": [
    "#Silhouette scores per clusters\n",
    "from sklearn.metrics import silhouette_samples\n",
    "\n",
    "silhouette_scores = silhouette_samples(X_ft_real_imag, y_train_pred)\n",
    "\n",
    "clusters_ss = pd.concat([pd.DataFrame(y_train_pred, columns= ['cluster']), pd.DataFrame(silhouette_scores, columns = ['silhouette_score'])], axis = 1)\n",
    "clusters_ss.head() \n",
    "\n",
    "\n",
    "sil_sample_cluster(clusters_ss, 'cluster', 'silhouette_score', 0.5) #0 for all"
   ]
  }
 ],
 "metadata": {
  "colab": {
   "authorship_tag": "ABX9TyMsWmZ7D8JiMEiRsk26I7rb",
   "collapsed_sections": [],
   "include_colab_link": true,
   "name": "romane_silhouette_score.ipynb",
   "provenance": []
  },
  "kernelspec": {
   "display_name": "Python 3",
   "language": "python",
   "name": "python3"
  },
  "language_info": {
   "codemirror_mode": {
    "name": "ipython",
    "version": 3
   },
   "file_extension": ".py",
   "mimetype": "text/x-python",
   "name": "python",
   "nbconvert_exporter": "python",
   "pygments_lexer": "ipython3",
   "version": "3.6.10"
  }
 },
 "nbformat": 4,
 "nbformat_minor": 1
}
