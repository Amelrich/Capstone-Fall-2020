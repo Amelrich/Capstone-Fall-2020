{
 "cells": [
  {
   "cell_type": "markdown",
   "metadata": {
    "id": "eRxOGCAOvnva"
   },
   "source": [
    "# **Time Series Generator**\n",
    "\n",
    "This script will make you able to generate a chosen number of time series of random stocks at random period of time.\n"
   ]
  },
  {
   "cell_type": "code",
   "execution_count": 1,
   "metadata": {
    "id": "nyVZUmpCkYDR"
   },
   "outputs": [],
   "source": [
    "import numpy as np\n",
    "import numpy.random as rd\n",
    "import pandas as pd"
   ]
  },
  {
   "cell_type": "markdown",
   "metadata": {
    "id": "BCbskjK4vTki"
   },
   "source": [
    "For Colab, it downloads the data using the following code. \n",
    "\n",
    "If you work locally be sure to have the folder *data/*. You can download it from the repo."
   ]
  },
  {
   "cell_type": "code",
   "execution_count": 2,
   "metadata": {
    "id": "8e6_qZp3jg8t"
   },
   "outputs": [],
   "source": [
    "try:\n",
    "  from google.colab import files\n",
    "  !wget -q https://github.com/Amelrich/Capstone-Fall-2020/archive/master.zip\n",
    "  !unzip -q master.zip\n",
    "  !mv Capstone-Fall-2020-master/data/ data/\n",
    "  !rm -rf master.zip Capstone-Fall-2020-master/\n",
    "except:\n",
    "  print(\"only in Colab\")"
   ]
  },
  {
   "cell_type": "markdown",
   "metadata": {
    "id": "1PkfCqIhvzcO"
   },
   "source": [
    "## The generator\n",
    "\n",
    "It generates random timeseries picked from random stocks at random times.\n",
    "\n",
    "Currently you can access to the generated time series using the method `get_list_of_df` (see example below). Next improvements will allow to choose a wider range of structures like arrays etc.\n",
    "\n"
   ]
  },
  {
   "cell_type": "code",
   "execution_count": 4,
   "metadata": {
    "id": "9t7JHidglgj5"
   },
   "outputs": [],
   "source": [
    "class TS_generator:\n",
    "    def __init__(self, nb_timeseries=2000, chunk_size=100):\n",
    "\n",
    "        self.chunk_size = chunk_size\n",
    "        self.nb_timeseries = nb_timeseries\n",
    "\n",
    "        #Retrieve the stocks names\n",
    "        self.symbols = pd.read_csv('https://raw.githubusercontent.com/Amelrich/Capstone-Fall-2020/master/sp500.csv', index_col=False)\n",
    "        self.symbols = list(self.symbols['Symbol'].values)\n",
    "        self.symbols = ['BF-B' if x=='BF.B' else x for x in self.symbols]\n",
    "        self.symbols = ['BRK-B' if x=='BRK.B' else x for x in self.symbols]\n",
    "\n",
    "        self.list_df = []\n",
    "\n",
    "        #Build the random time series\n",
    "        self.build_()\n",
    "\n",
    "    def build_(self):    \n",
    "        for _ in range(self.nb_timeseries):\n",
    "\n",
    "          #Pick a random stock\n",
    "            stock = self.symbols[rd.randint(len(self.symbols))]\n",
    "            TS = pd.read_csv('data/'+stock+'.csv')\n",
    "\n",
    "          #Pick a random starting point\n",
    "            timemax = len(TS) - self.chunk_size\n",
    "            start = rd.randint(timemax)\n",
    "            stock_df = TS[start : start+self.chunk_size]\n",
    "\n",
    "            self.list_df.append( stock_df )\n",
    "\n",
    "    def get_list_of_df(self):\n",
    "    #\n",
    "        return self.list_df\n",
    "\n",
    "    def get_array(self):\n",
    "    #Return adjusted close array\n",
    "        close_array = np.zeros((self.nb_timeseries, self.chunk_size))\n",
    "\n",
    "        for i in range(self.nb_timeseries):\n",
    "            close_array[i,:] = self.list_df[i]['Adj Close'].to_numpy()\n",
    "\n",
    "            return close_array"
   ]
  },
  {
   "cell_type": "markdown",
   "metadata": {
    "id": "d8yt85Fct5re"
   },
   "source": [
    "# Example"
   ]
  },
  {
   "cell_type": "code",
   "execution_count": 21,
   "metadata": {
    "colab": {
     "base_uri": "https://localhost:8080/",
     "height": 34
    },
    "id": "yDscSoqRrloF",
    "outputId": "955d95a4-d4fe-4441-8026-2b9b36c84d63"
   },
   "outputs": [
    {
     "name": "stdout",
     "output_type": "stream",
     "text": [
      "Time to generate 2000 random timeseries: 15 sec\n"
     ]
    }
   ],
   "source": [
    "import time\n",
    "t = time.time()\n",
    "\n",
    "gen = TS_generator(nb_timeseries=2000, chunk_size=100) #default values but just for the syntax\n",
    "X = gen.get_list_of_df()\n",
    "\n",
    "print(\"Time to generate 2000 random timeseries:\", round(time.time()-t), 'sec')"
   ]
  },
  {
   "cell_type": "code",
   "execution_count": 22,
   "metadata": {
    "colab": {
     "base_uri": "https://localhost:8080/",
     "height": 204
    },
    "id": "XgjKHmNhupEw",
    "outputId": "5ccb1366-b262-45e3-9f55-047e4ac40668"
   },
   "outputs": [
    {
     "data": {
      "text/html": [
       "<div>\n",
       "<style scoped>\n",
       "    .dataframe tbody tr th:only-of-type {\n",
       "        vertical-align: middle;\n",
       "    }\n",
       "\n",
       "    .dataframe tbody tr th {\n",
       "        vertical-align: top;\n",
       "    }\n",
       "\n",
       "    .dataframe thead th {\n",
       "        text-align: right;\n",
       "    }\n",
       "</style>\n",
       "<table border=\"1\" class=\"dataframe\">\n",
       "  <thead>\n",
       "    <tr style=\"text-align: right;\">\n",
       "      <th></th>\n",
       "      <th>Date</th>\n",
       "      <th>Adj Close</th>\n",
       "      <th>Volume</th>\n",
       "      <th>Symbol</th>\n",
       "    </tr>\n",
       "  </thead>\n",
       "  <tbody>\n",
       "    <tr>\n",
       "      <th>4512</th>\n",
       "      <td>2017-10-25</td>\n",
       "      <td>175.687943</td>\n",
       "      <td>642500.0</td>\n",
       "      <td>ROK</td>\n",
       "    </tr>\n",
       "    <tr>\n",
       "      <th>4513</th>\n",
       "      <td>2017-10-26</td>\n",
       "      <td>176.589523</td>\n",
       "      <td>511200.0</td>\n",
       "      <td>ROK</td>\n",
       "    </tr>\n",
       "    <tr>\n",
       "      <th>4514</th>\n",
       "      <td>2017-10-27</td>\n",
       "      <td>177.293869</td>\n",
       "      <td>411800.0</td>\n",
       "      <td>ROK</td>\n",
       "    </tr>\n",
       "    <tr>\n",
       "      <th>4515</th>\n",
       "      <td>2017-10-30</td>\n",
       "      <td>175.622223</td>\n",
       "      <td>502300.0</td>\n",
       "      <td>ROK</td>\n",
       "    </tr>\n",
       "    <tr>\n",
       "      <th>4516</th>\n",
       "      <td>2017-10-31</td>\n",
       "      <td>188.601349</td>\n",
       "      <td>3465200.0</td>\n",
       "      <td>ROK</td>\n",
       "    </tr>\n",
       "  </tbody>\n",
       "</table>\n",
       "</div>"
      ],
      "text/plain": [
       "            Date   Adj Close     Volume Symbol\n",
       "4512  2017-10-25  175.687943   642500.0    ROK\n",
       "4513  2017-10-26  176.589523   511200.0    ROK\n",
       "4514  2017-10-27  177.293869   411800.0    ROK\n",
       "4515  2017-10-30  175.622223   502300.0    ROK\n",
       "4516  2017-10-31  188.601349  3465200.0    ROK"
      ]
     },
     "execution_count": 22,
     "metadata": {
      "tags": []
     },
     "output_type": "execute_result"
    }
   ],
   "source": [
    "X[0].head()"
   ]
  },
  {
   "cell_type": "code",
   "execution_count": 23,
   "metadata": {
    "colab": {
     "base_uri": "https://localhost:8080/",
     "height": 34
    },
    "id": "63-SyBr7BvJz",
    "outputId": "1f122321-de5d-4f91-c4d9-90ffb79009eb"
   },
   "outputs": [
    {
     "data": {
      "text/plain": [
       "(2000, 100)"
      ]
     },
     "execution_count": 23,
     "metadata": {
      "tags": []
     },
     "output_type": "execute_result"
    }
   ],
   "source": [
    "#Array version\n",
    "X = gen.get_array()\n",
    "X.shape"
   ]
  },
  {
   "cell_type": "code",
   "execution_count": 27,
   "metadata": {
    "colab": {
     "base_uri": "https://localhost:8080/",
     "height": 51
    },
    "id": "tSPngLS_44LW",
    "outputId": "00fff32f-3699-4b9c-ff14-e58f8d7274a3"
   },
   "outputs": [
    {
     "data": {
      "text/plain": [
       "array([175.6879425 , 176.58952332, 177.29386902, 175.6222229 ,\n",
       "       188.60134888])"
      ]
     },
     "execution_count": 27,
     "metadata": {
      "tags": []
     },
     "output_type": "execute_result"
    }
   ],
   "source": [
    "X[0,:5]"
   ]
  },
  {
   "cell_type": "code",
   "execution_count": 25,
   "metadata": {
    "colab": {
     "base_uri": "https://localhost:8080/",
     "height": 34
    },
    "id": "PDYMp-MU2R6B",
    "outputId": "cea3b380-c8ab-4ea9-c9a1-c42e5a827c1e"
   },
   "outputs": [
    {
     "data": {
      "text/plain": [
       "(2000, 50)"
      ]
     },
     "execution_count": 25,
     "metadata": {
      "tags": []
     },
     "output_type": "execute_result"
    }
   ],
   "source": [
    "#50 most recent prices\n",
    "X[:,50:].shape"
   ]
  },
  {
   "cell_type": "code",
   "execution_count": null,
   "metadata": {
    "id": "G9atakgo4wUf"
   },
   "outputs": [],
   "source": []
  }
 ],
 "metadata": {
  "colab": {
   "collapsed_sections": [],
   "name": "Time series generator.ipynb",
   "provenance": []
  },
  "kernelspec": {
   "display_name": "Python 3",
   "language": "python",
   "name": "python3"
  },
  "language_info": {
   "codemirror_mode": {
    "name": "ipython",
    "version": 3
   },
   "file_extension": ".py",
   "mimetype": "text/x-python",
   "name": "python",
   "nbconvert_exporter": "python",
   "pygments_lexer": "ipython3",
   "version": "3.6.10"
  }
 },
 "nbformat": 4,
 "nbformat_minor": 1
}
